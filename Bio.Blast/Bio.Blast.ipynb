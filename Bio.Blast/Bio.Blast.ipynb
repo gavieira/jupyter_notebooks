{
 "cells": [
  {
   "cell_type": "markdown",
   "metadata": {},
   "source": [
    "# Biopython's Blast module"
   ]
  },
  {
   "cell_type": "markdown",
   "metadata": {},
   "source": [
    "Let's play a bit with Bio.Blast:"
   ]
  },
  {
   "cell_type": "code",
   "execution_count": 1,
   "metadata": {},
   "outputs": [],
   "source": [
    "from Bio.Blast import NCBIWWW"
   ]
  },
  {
   "cell_type": "markdown",
   "metadata": {},
   "source": [
    "First, we'll blast our query sequence against the 'nt' database:"
   ]
  },
  {
   "cell_type": "code",
   "execution_count": 2,
   "metadata": {},
   "outputs": [],
   "source": [
    "blast_result = NCBIWWW.qblast(\"blastn\", \"nt\", \"Formica_fusca_coi.fa\")"
   ]
  },
  {
   "cell_type": "code",
   "execution_count": 3,
   "metadata": {},
   "outputs": [],
   "source": [
    "output = blast_result.read()"
   ]
  },
  {
   "cell_type": "code",
   "execution_count": 5,
   "metadata": {},
   "outputs": [
    {
     "name": "stdout",
     "output_type": "stream",
     "text": [
      "<?xml version=\"1.0\"?>\n",
      "<!DOCTYPE BlastOutput PUBLIC \"-//NCBI//NCBI BlastOutput/EN\" \"http://www.ncbi.nlm.nih.gov/dtd/NCBI_BlastOutput.dtd\">\n",
      "<BlastOutput>\n",
      "  <BlastOutput_program>blastn</BlastOutput_program>\n",
      "  <BlastOutput_version>BLASTN 2.10.1+</BlastOutput_version>\n",
      "  <BlastOutput_reference>Stephen F. Altschul, Thomas L. Madden, Alejandro A. Sch&amp;auml;ffer, Jinghui Zhang, Zheng Zhang, Webb Miller, and David J. Lipman (1997), &quot;Gapped BLAST and PSI-BLAST: a new generation of protein database search programs&quot;, Nucleic Acids Res. 25:3389-3402.</BlastOutput_reference>\n",
      "  <BlastOutput_db>nt</BlastOutput_db>\n",
      "  <BlastOutput_query-ID>Query_29561</BlastOutput_query-ID>\n",
      "  <BlastOutput_query-def>No definition line</BlastOutput_query-def>\n",
      "  <BlastOutput_query-len>10</BlastOutput_query-len>\n",
      "  <BlastOutput_param>\n",
      "    <Parameters>\n",
      "      <Parameters_expect>10</Parameters_expect>\n",
      "      <Parameters_sc-match>2</Parameters_sc-match>\n",
      "      <Parameters_sc-mismatch>-3</Parameters_sc-mismatch>\n",
      "      <Parameters_gap-open>5</Parameters_gap-open>\n",
      "      <Parameters_gap-extend>2</Parameters_gap-extend>\n",
      "      <Parameters_filter>L;m;</Parameters_filter>\n",
      "    </Parameters>\n",
      "  </BlastOutput_param>\n",
      "<BlastOutput_iterations>\n",
      "<Iteration>\n",
      "  <Iteration_iter-num>1</Iteration_iter-num>\n",
      "  <Iteration_query-ID>Query_29561</Iteration_query-ID>\n",
      "  <Iteration_query-def>No definition line</Iteration_query-def>\n",
      "  <Iteration_query-len>10</Iteration_query-len>\n",
      "<Iteration_hits>\n",
      "</Iteration_hits>\n",
      "  <Iteration_stat>\n",
      "    <Statistics>\n",
      "      <Statistics_db-num>60326519</Statistics_db-num>\n",
      "      <Statistics_db-len>321661853085</Statistics_db-len>\n",
      "      <Statistics_hsp-len>0</Statistics_hsp-len>\n",
      "      <Statistics_eff-space>0</Statistics_eff-space>\n",
      "      <Statistics_kappa>0.41</Statistics_kappa>\n",
      "      <Statistics_lambda>0.625</Statistics_lambda>\n",
      "      <Statistics_entropy>0.78</Statistics_entropy>\n",
      "    </Statistics>\n",
      "  </Iteration_stat>\n",
      "</Iteration>\n",
      "</BlastOutput_iterations>\n",
      "</BlastOutput>\n",
      "\n"
     ]
    }
   ],
   "source": [
    "print(output)"
   ]
  },
  {
   "cell_type": "code",
   "execution_count": null,
   "metadata": {},
   "outputs": [],
   "source": []
  }
 ],
 "metadata": {
  "kernelspec": {
   "display_name": "Python 3",
   "language": "python",
   "name": "python3"
  },
  "language_info": {
   "codemirror_mode": {
    "name": "ipython",
    "version": 3
   },
   "file_extension": ".py",
   "mimetype": "text/x-python",
   "name": "python",
   "nbconvert_exporter": "python",
   "pygments_lexer": "ipython3",
   "version": "3.8.3"
  }
 },
 "nbformat": 4,
 "nbformat_minor": 4
}
