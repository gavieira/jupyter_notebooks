{
 "cells": [
  {
   "cell_type": "markdown",
   "metadata": {},
   "source": [
    "# The Biopython's CodonTable module"
   ]
  },
  {
   "cell_type": "markdown",
   "metadata": {},
   "source": [
    "More information on: https://biopython.org/DIST/docs/api/Bio.Data.CodonTable-module.html and https://biopython.org/docs/1.74/api/Bio.Data.CodonTable.html"
   ]
  },
  {
   "cell_type": "markdown",
   "metadata": {},
   "source": [
    "The Bio.Data module features a lot of information regarding codon tables, IUPAC and protein alphabets and so on.\n",
    "Other biopython features are dependant on this module, such as SeqIO's translate module."
   ]
  },
  {
   "cell_type": "code",
   "execution_count": 5,
   "metadata": {},
   "outputs": [],
   "source": [
    "from Bio.Data import CodonTable\n",
    "from Bio import SeqIO"
   ]
  },
  {
   "cell_type": "code",
   "execution_count": 6,
   "metadata": {},
   "outputs": [
    {
     "name": "stdout",
     "output_type": "stream",
     "text": [
      "Help on method translate in module Bio.SeqRecord:\n",
      "\n",
      "translate(table='Standard', stop_symbol='*', to_stop=False, cds=False, gap=None, id=False, name=False, description=False, features=False, annotations=False, letter_annotations=False, dbxrefs=False) method of Bio.SeqRecord.SeqRecord instance\n",
      "    Return new SeqRecord with translated sequence.\n",
      "    \n",
      "    This calls the record's .seq.translate() method (which describes\n",
      "    the translation related arguments, like table for the genetic code),\n",
      "    \n",
      "    By default the new record does NOT preserve the sequence identifier,\n",
      "    name, description, general annotation or database cross-references -\n",
      "    these are unlikely to apply to the translated sequence.\n",
      "    \n",
      "    You can specify the returned record's id, name and description as\n",
      "    strings, or True to keep that of the parent, or False for a default.\n",
      "    \n",
      "    You can specify the returned record's features with a list of\n",
      "    SeqFeature objects, or False (default) to omit them.\n",
      "    \n",
      "    You can also specify both the returned record's annotations and\n",
      "    letter_annotations as dictionaries, True to keep that of the parent\n",
      "    (annotations only), or False (default) to omit them.\n",
      "    \n",
      "    e.g. Loading a FASTA gene and translating it,\n",
      "    \n",
      "    >>> from Bio import SeqIO\n",
      "    >>> gene_record = SeqIO.read(\"Fasta/sweetpea.nu\", \"fasta\")\n",
      "    >>> print(gene_record.format(\"fasta\"))\n",
      "    >gi|3176602|gb|U78617.1|LOU78617 Lathyrus odoratus phytochrome A (PHYA) gene, partial cds\n",
      "    CAGGCTGCGCGGTTTCTATTTATGAAGAACAAGGTCCGTATGATAGTTGATTGTCATGCA\n",
      "    AAACATGTGAAGGTTCTTCAAGACGAAAAACTCCCATTTGATTTGACTCTGTGCGGTTCG\n",
      "    ACCTTAAGAGCTCCACATAGTTGCCATTTGCAGTACATGGCTAACATGGATTCAATTGCT\n",
      "    TCATTGGTTATGGCAGTGGTCGTCAATGACAGCGATGAAGATGGAGATAGCCGTGACGCA\n",
      "    GTTCTACCACAAAAGAAAAAGAGACTTTGGGGTTTGGTAGTTTGTCATAACACTACTCCG\n",
      "    AGGTTTGTT\n",
      "    <BLANKLINE>\n",
      "    \n",
      "    And now translating the record, specifying the new ID and description:\n",
      "    \n",
      "    >>> protein_record = gene_record.translate(table=11,\n",
      "    ...                                        id=\"phya\",\n",
      "    ...                                        description=\"translation\")\n",
      "    >>> print(protein_record.format(\"fasta\"))\n",
      "    >phya translation\n",
      "    QAARFLFMKNKVRMIVDCHAKHVKVLQDEKLPFDLTLCGSTLRAPHSCHLQYMANMDSIA\n",
      "    SLVMAVVVNDSDEDGDSRDAVLPQKKKRLWGLVVCHNTTPRFV\n",
      "    <BLANKLINE>\n",
      "\n",
      "None\n"
     ]
    }
   ],
   "source": [
    "record = SeqIO.read(\"Cebus_albifrons_NC_002763.1.gb\", \"genbank\")\n",
    "print(help(record.translate))"
   ]
  },
  {
   "cell_type": "markdown",
   "metadata": {},
   "source": [
    "As we can see, the translate method needs an argument (table) to convert DNA to protein sequences. These are based on the [NCBI's genetic code tables](ftp://ftp.ncbi.nih.gov/entrez/misc/data/gc.prt). For instance, we could get the complete CDS for the ND1 gene of ***Cebus albifrons*** (a primate) using the \"Vertebrate Mitochondrial\" table (table number 2):"
   ]
  },
  {
   "cell_type": "code",
   "execution_count": 7,
   "metadata": {},
   "outputs": [
    {
     "name": "stdout",
     "output_type": "stream",
     "text": [
      "MFMINLLLLITPALVAMAFLTLTERKILGYMQLRKGPNIVGPYGVLQPIADAMKLFTKEPLLPITSTTTLYMIAPTLALTISLLLWSPLPMPYSLVNFNLGLLFMLATSSLAVYSTLWSGWASNSNYALIGALRAVAQTISYEVTLAIILLSTLLMSGSFNLQSLITTQEQSWLLLPSWPLTMMWFISTLAETNRAPFDLTEGESELVSGFNIEYAAGSFALFFMAEYMNIIMMNALTTTIFTATSYNMITTELYTLNFTTKTLLLTTLFLWIRTAYPRFRYDQLMYLLWKKFLPLTLALCMWYISMPMLLSGIPPQT*\n",
      "\n",
      "MFMINLLLLITPALVAMAFLTLTERKILGYMQLRKGPNIVGPYGVLQPIADAMKLFTKEPLLPITSTTTLYMIAPTLALTISLLLWSPLPMPYSLVNFNLGLLFMLATSSLAVYSTLWSGWASNSNYALIGALRAVAQTISYEVTLAIILLSTLLMSGSFNLQSLITTQEQSWLLLPSWPLTMMWFISTLAETNRAPFDLTEGESELVSGFNIEYAAGSFALFFMAEYMNIIMMNALTTTIFTATSYNMITTELYTLNFTTKTLLLTTLFLWIRTAYPRFRYDQLMYLLWKKFLPLTLALCMWYISMPMLLSGIPPQT*\n"
     ]
    }
   ],
   "source": [
    "for i in record.features:\n",
    "    if i.qualifiers.get('gene') == ['ND1']:\n",
    "        print(i.location.extract(record.seq).translate(2)) ##Translate by table number\n",
    "        print()\n",
    "        print(i.location.extract(record.seq).translate('Vertebrate Mitochondrial')) ##Translate by table name\n",
    "        break"
   ]
  },
  {
   "cell_type": "markdown",
   "metadata": {},
   "source": [
    "----\n",
    "\n",
    "These tables (available for RNA or DNA, ambiguous or unambiguous) can be accessed by id or name through the CodonTable module from Bio.Data: "
   ]
  },
  {
   "cell_type": "code",
   "execution_count": 8,
   "metadata": {},
   "outputs": [
    {
     "data": {
      "text/plain": [
       "['Alphabet',\n",
       " 'AmbiguousCodonTable',\n",
       " 'AmbiguousForwardTable',\n",
       " 'CodonTable',\n",
       " 'IUPAC',\n",
       " 'IUPACData',\n",
       " 'NCBICodonTable',\n",
       " 'NCBICodonTableDNA',\n",
       " 'NCBICodonTableRNA',\n",
       " 'TranslationError',\n",
       " '__builtins__',\n",
       " '__cached__',\n",
       " '__doc__',\n",
       " '__file__',\n",
       " '__loader__',\n",
       " '__name__',\n",
       " '__package__',\n",
       " '__spec__',\n",
       " 'ambiguous_dna_by_id',\n",
       " 'ambiguous_dna_by_name',\n",
       " 'ambiguous_generic_by_id',\n",
       " 'ambiguous_generic_by_name',\n",
       " 'ambiguous_rna_by_id',\n",
       " 'ambiguous_rna_by_name',\n",
       " 'generic_by_id',\n",
       " 'generic_by_name',\n",
       " 'list_ambiguous_codons',\n",
       " 'list_possible_proteins',\n",
       " 'make_back_table',\n",
       " 'register_ncbi_table',\n",
       " 'standard_dna_table',\n",
       " 'standard_rna_table',\n",
       " 'unambiguous_dna_by_id',\n",
       " 'unambiguous_dna_by_name',\n",
       " 'unambiguous_rna_by_id',\n",
       " 'unambiguous_rna_by_name']"
      ]
     },
     "execution_count": 8,
     "metadata": {},
     "output_type": "execute_result"
    }
   ],
   "source": [
    "dir(CodonTable)"
   ]
  },
  {
   "cell_type": "markdown",
   "metadata": {},
   "source": [
    "All available genetic tables can be seen by name or id:"
   ]
  },
  {
   "cell_type": "code",
   "execution_count": 9,
   "metadata": {},
   "outputs": [
    {
     "name": "stdout",
     "output_type": "stream",
     "text": [
      "GENETIC TABLES BY NAME:\n",
      "Standard\n",
      "SGC0\n",
      "Vertebrate Mitochondrial\n",
      "SGC1\n",
      "Yeast Mitochondrial\n",
      "SGC2\n",
      "Mold Mitochondrial\n",
      "Protozoan Mitochondrial\n",
      "Coelenterate Mitochondrial\n",
      "Mycoplasma\n",
      "Spiroplasma\n",
      "SGC3\n",
      "Invertebrate Mitochondrial\n",
      "SGC4\n",
      "Ciliate Nuclear\n",
      "Dasycladacean Nuclear\n",
      "Hexamita Nuclear\n",
      "SGC5\n",
      "Echinoderm Mitochondrial\n",
      "Flatworm Mitochondrial\n",
      "SGC8\n",
      "Euplotid Nuclear\n",
      "SGC9\n",
      "Bacterial\n",
      "Archaeal\n",
      "Plant Plastid\n",
      "Alternative Yeast Nuclear\n",
      "Ascidian Mitochondrial\n",
      "Alternative Flatworm Mitochondrial\n",
      "Blepharisma Macronuclear\n",
      "Chlorophycean Mitochondrial\n",
      "Trematode Mitochondrial\n",
      "Scenedesmus obliquus Mitochondrial\n",
      "Thraustochytrium Mitochondrial\n",
      "Pterobranchia Mitochondrial\n",
      "Candidate Division SR1\n",
      "Gracilibacteria\n",
      "Pachysolen tannophilus Nuclear\n",
      "Karyorelict Nuclear\n",
      "Condylostoma Nuclear\n",
      "Mesodinium Nuclear\n",
      "Peritrich Nuclear\n",
      "Blastocrithidia Nuclear\n",
      "Balanophoraceae Plastid\n",
      "\n",
      "GENETIC TABLES BY ID:\n",
      "1\n",
      "2\n",
      "3\n",
      "4\n",
      "5\n",
      "6\n",
      "9\n",
      "10\n",
      "11\n",
      "12\n",
      "13\n",
      "14\n",
      "15\n",
      "16\n",
      "21\n",
      "22\n",
      "23\n",
      "24\n",
      "25\n",
      "26\n",
      "27\n",
      "28\n",
      "29\n",
      "30\n",
      "31\n",
      "32\n"
     ]
    }
   ],
   "source": [
    "print(\"GENETIC TABLES BY NAME:\")\n",
    "for i in CodonTable.unambiguous_dna_by_name:\n",
    "    print(i)\n",
    "\n",
    "print()\n",
    "    \n",
    "print(\"GENETIC TABLES BY ID:\")\n",
    "for i in CodonTable.unambiguous_dna_by_id:\n",
    "    print(i)"
   ]
  },
  {
   "cell_type": "markdown",
   "metadata": {},
   "source": [
    "And each table can also be accessed by name or id:"
   ]
  },
  {
   "cell_type": "code",
   "execution_count": 10,
   "metadata": {},
   "outputs": [
    {
     "name": "stdout",
     "output_type": "stream",
     "text": [
      "Table 1 Standard, SGC0\n",
      "\n",
      "  |  T      |  C      |  A      |  G      |\n",
      "--+---------+---------+---------+---------+--\n",
      "T | TTT F   | TCT S   | TAT Y   | TGT C   | T\n",
      "T | TTC F   | TCC S   | TAC Y   | TGC C   | C\n",
      "T | TTA L   | TCA S   | TAA Stop| TGA Stop| A\n",
      "T | TTG L(s)| TCG S   | TAG Stop| TGG W   | G\n",
      "--+---------+---------+---------+---------+--\n",
      "C | CTT L   | CCT P   | CAT H   | CGT R   | T\n",
      "C | CTC L   | CCC P   | CAC H   | CGC R   | C\n",
      "C | CTA L   | CCA P   | CAA Q   | CGA R   | A\n",
      "C | CTG L(s)| CCG P   | CAG Q   | CGG R   | G\n",
      "--+---------+---------+---------+---------+--\n",
      "A | ATT I   | ACT T   | AAT N   | AGT S   | T\n",
      "A | ATC I   | ACC T   | AAC N   | AGC S   | C\n",
      "A | ATA I   | ACA T   | AAA K   | AGA R   | A\n",
      "A | ATG M(s)| ACG T   | AAG K   | AGG R   | G\n",
      "--+---------+---------+---------+---------+--\n",
      "G | GTT V   | GCT A   | GAT D   | GGT G   | T\n",
      "G | GTC V   | GCC A   | GAC D   | GGC G   | C\n",
      "G | GTA V   | GCA A   | GAA E   | GGA G   | A\n",
      "G | GTG V   | GCG A   | GAG E   | GGG G   | G\n",
      "--+---------+---------+---------+---------+--\n",
      "\n",
      "Table 2 Vertebrate Mitochondrial, SGC1\n",
      "\n",
      "  |  T      |  C      |  A      |  G      |\n",
      "--+---------+---------+---------+---------+--\n",
      "T | TTT F   | TCT S   | TAT Y   | TGT C   | T\n",
      "T | TTC F   | TCC S   | TAC Y   | TGC C   | C\n",
      "T | TTA L   | TCA S   | TAA Stop| TGA W   | A\n",
      "T | TTG L   | TCG S   | TAG Stop| TGG W   | G\n",
      "--+---------+---------+---------+---------+--\n",
      "C | CTT L   | CCT P   | CAT H   | CGT R   | T\n",
      "C | CTC L   | CCC P   | CAC H   | CGC R   | C\n",
      "C | CTA L   | CCA P   | CAA Q   | CGA R   | A\n",
      "C | CTG L   | CCG P   | CAG Q   | CGG R   | G\n",
      "--+---------+---------+---------+---------+--\n",
      "A | ATT I(s)| ACT T   | AAT N   | AGT S   | T\n",
      "A | ATC I(s)| ACC T   | AAC N   | AGC S   | C\n",
      "A | ATA M(s)| ACA T   | AAA K   | AGA Stop| A\n",
      "A | ATG M(s)| ACG T   | AAG K   | AGG Stop| G\n",
      "--+---------+---------+---------+---------+--\n",
      "G | GTT V   | GCT A   | GAT D   | GGT G   | T\n",
      "G | GTC V   | GCC A   | GAC D   | GGC G   | C\n",
      "G | GTA V   | GCA A   | GAA E   | GGA G   | A\n",
      "G | GTG V(s)| GCG A   | GAG E   | GGG G   | G\n",
      "--+---------+---------+---------+---------+--\n"
     ]
    }
   ],
   "source": [
    "print(CodonTable.unambiguous_dna_by_name[\"SGC0\"])\n",
    "print()\n",
    "print(CodonTable.unambiguous_dna_by_id[2])"
   ]
  },
  {
   "cell_type": "markdown",
   "metadata": {},
   "source": [
    "**Obs:** Note that SGC0 is the same as Standard Genetic Code Table (Table 1). Likewise, the Vertebrate Mitochondrial Table is also called SGC1 (Table 2).\n",
    "\n",
    "All tables and their numbers can be viewed [here](https://www.ncbi.nlm.nih.gov/Taxonomy/Utils/wprintgc.cgi)."
   ]
  },
  {
   "cell_type": "markdown",
   "metadata": {},
   "source": [
    "----\n",
    "\n",
    "Each table can be retrieved as a dictionary (codons as keys, aminoacids as values), useful in several scripts (e.g. for counting codons and/or calculating codon usage)."
   ]
  },
  {
   "cell_type": "code",
   "execution_count": 14,
   "metadata": {},
   "outputs": [
    {
     "name": "stdout",
     "output_type": "stream",
     "text": [
      "{'TTT': 'F', 'TTC': 'F', 'TTA': 'L', 'TTG': 'L', 'TCT': 'S', 'TCC': 'S', 'TCA': 'S', 'TCG': 'S', 'TAT': 'Y', 'TAC': 'Y', 'TGT': 'C', 'TGC': 'C', 'TGA': 'W', 'TGG': 'W', 'CTT': 'L', 'CTC': 'L', 'CTA': 'L', 'CTG': 'L', 'CCT': 'P', 'CCC': 'P', 'CCA': 'P', 'CCG': 'P', 'CAT': 'H', 'CAC': 'H', 'CAA': 'Q', 'CAG': 'Q', 'CGT': 'R', 'CGC': 'R', 'CGA': 'R', 'CGG': 'R', 'ATT': 'I', 'ATC': 'I', 'ATA': 'M', 'ATG': 'M', 'ACT': 'T', 'ACC': 'T', 'ACA': 'T', 'ACG': 'T', 'AAT': 'N', 'AAC': 'N', 'AAA': 'K', 'AAG': 'K', 'AGT': 'S', 'AGC': 'S', 'GTT': 'V', 'GTC': 'V', 'GTA': 'V', 'GTG': 'V', 'GCT': 'A', 'GCC': 'A', 'GCA': 'A', 'GCG': 'A', 'GAT': 'D', 'GAC': 'D', 'GAA': 'E', 'GAG': 'E', 'GGT': 'G', 'GGC': 'G', 'GGA': 'G', 'GGG': 'G'}\n"
     ]
    }
   ],
   "source": [
    "print(CodonTable.unambiguous_dna_by_id[2].forward_table)"
   ]
  },
  {
   "cell_type": "markdown",
   "metadata": {},
   "source": [
    "----\n",
    "\n",
    "Of course, the RNA tables could also be easily obtained:"
   ]
  },
  {
   "cell_type": "code",
   "execution_count": 15,
   "metadata": {},
   "outputs": [
    {
     "name": "stdout",
     "output_type": "stream",
     "text": [
      "dict_items([('UUU', 'F'), ('UUC', 'F'), ('UUA', 'L'), ('UUG', 'L'), ('UCU', 'S'), ('UCC', 'S'), ('UCA', 'S'), ('UCG', 'S'), ('UAU', 'Y'), ('UAC', 'Y'), ('UGU', 'C'), ('UGC', 'C'), ('UGA', 'W'), ('UGG', 'W'), ('CUU', 'L'), ('CUC', 'L'), ('CUA', 'L'), ('CUG', 'L'), ('CCU', 'P'), ('CCC', 'P'), ('CCA', 'P'), ('CCG', 'P'), ('CAU', 'H'), ('CAC', 'H'), ('CAA', 'Q'), ('CAG', 'Q'), ('CGU', 'R'), ('CGC', 'R'), ('CGA', 'R'), ('CGG', 'R'), ('AUU', 'I'), ('AUC', 'I'), ('AUA', 'M'), ('AUG', 'M'), ('ACU', 'T'), ('ACC', 'T'), ('ACA', 'T'), ('ACG', 'T'), ('AAU', 'N'), ('AAC', 'N'), ('AAA', 'K'), ('AAG', 'K'), ('AGU', 'S'), ('AGC', 'S'), ('GUU', 'V'), ('GUC', 'V'), ('GUA', 'V'), ('GUG', 'V'), ('GCU', 'A'), ('GCC', 'A'), ('GCA', 'A'), ('GCG', 'A'), ('GAU', 'D'), ('GAC', 'D'), ('GAA', 'E'), ('GAG', 'E'), ('GGU', 'G'), ('GGC', 'G'), ('GGA', 'G'), ('GGG', 'G')])\n"
     ]
    }
   ],
   "source": [
    "print(CodonTable.unambiguous_rna_by_id[2].forward_table.items())"
   ]
  },
  {
   "cell_type": "markdown",
   "metadata": {},
   "source": [
    "Many different methods can be used in the CodonTable module: "
   ]
  },
  {
   "cell_type": "code",
   "execution_count": 16,
   "metadata": {},
   "outputs": [
    {
     "data": {
      "text/plain": [
       "['Alphabet',\n",
       " 'AmbiguousCodonTable',\n",
       " 'AmbiguousForwardTable',\n",
       " 'CodonTable',\n",
       " 'IUPAC',\n",
       " 'IUPACData',\n",
       " 'NCBICodonTable',\n",
       " 'NCBICodonTableDNA',\n",
       " 'NCBICodonTableRNA',\n",
       " 'TranslationError',\n",
       " '__builtins__',\n",
       " '__cached__',\n",
       " '__doc__',\n",
       " '__file__',\n",
       " '__loader__',\n",
       " '__name__',\n",
       " '__package__',\n",
       " '__spec__',\n",
       " 'ambiguous_dna_by_id',\n",
       " 'ambiguous_dna_by_name',\n",
       " 'ambiguous_generic_by_id',\n",
       " 'ambiguous_generic_by_name',\n",
       " 'ambiguous_rna_by_id',\n",
       " 'ambiguous_rna_by_name',\n",
       " 'generic_by_id',\n",
       " 'generic_by_name',\n",
       " 'list_ambiguous_codons',\n",
       " 'list_possible_proteins',\n",
       " 'make_back_table',\n",
       " 'register_ncbi_table',\n",
       " 'standard_dna_table',\n",
       " 'standard_rna_table',\n",
       " 'unambiguous_dna_by_id',\n",
       " 'unambiguous_dna_by_name',\n",
       " 'unambiguous_rna_by_id',\n",
       " 'unambiguous_rna_by_name']"
      ]
     },
     "execution_count": 16,
     "metadata": {},
     "output_type": "execute_result"
    }
   ],
   "source": [
    "dir(CodonTable)"
   ]
  },
  {
   "cell_type": "markdown",
   "metadata": {},
   "source": [
    "Objects created using the CodonTable are from the 'CodonTable' class:"
   ]
  },
  {
   "cell_type": "code",
   "execution_count": 17,
   "metadata": {},
   "outputs": [
    {
     "name": "stdout",
     "output_type": "stream",
     "text": [
      "<class 'Bio.Data.CodonTable.NCBICodonTableDNA'>\n"
     ]
    }
   ],
   "source": [
    "mito = CodonTable.unambiguous_dna_by_id[2]\n",
    "print(type(mito))"
   ]
  },
  {
   "cell_type": "markdown",
   "metadata": {},
   "source": [
    "The methods associated with this class expands the usability of such objects:"
   ]
  },
  {
   "cell_type": "code",
   "execution_count": 18,
   "metadata": {},
   "outputs": [
    {
     "name": "stdout",
     "output_type": "stream",
     "text": [
      "['__class__', '__delattr__', '__dict__', '__dir__', '__doc__', '__eq__', '__format__', '__ge__', '__getattribute__', '__gt__', '__hash__', '__init__', '__init_subclass__', '__le__', '__lt__', '__module__', '__ne__', '__new__', '__reduce__', '__reduce_ex__', '__repr__', '__setattr__', '__sizeof__', '__str__', '__subclasshook__', '__weakref__', 'back_table', 'forward_table', 'id', 'names', 'nucleotide_alphabet', 'protein_alphabet', 'start_codons', 'stop_codons']\n"
     ]
    }
   ],
   "source": [
    "print(dir(mito))"
   ]
  },
  {
   "cell_type": "markdown",
   "metadata": {},
   "source": [
    "You can, for instance, print a reverse table (with aminoacids as keys and a **single codon** as a value - naive codon mapping). Would be better if the returned dictionary had all codons."
   ]
  },
  {
   "cell_type": "code",
   "execution_count": 19,
   "metadata": {},
   "outputs": [
    {
     "data": {
      "text/plain": [
       "{'K': 'AAG',\n",
       " 'N': 'AAT',\n",
       " 'T': 'ACT',\n",
       " 'S': 'TCT',\n",
       " 'M': 'ATG',\n",
       " 'I': 'ATT',\n",
       " 'Q': 'CAG',\n",
       " 'H': 'CAT',\n",
       " 'P': 'CCT',\n",
       " 'R': 'CGT',\n",
       " 'L': 'TTG',\n",
       " 'E': 'GAG',\n",
       " 'D': 'GAT',\n",
       " 'A': 'GCT',\n",
       " 'G': 'GGT',\n",
       " 'V': 'GTT',\n",
       " 'Y': 'TAT',\n",
       " 'W': 'TGG',\n",
       " 'C': 'TGT',\n",
       " 'F': 'TTT',\n",
       " None: 'TAA'}"
      ]
     },
     "execution_count": 19,
     "metadata": {},
     "output_type": "execute_result"
    }
   ],
   "source": [
    "mito.back_table"
   ]
  },
  {
   "cell_type": "markdown",
   "metadata": {},
   "source": [
    "The \"forward_table\" method, already used here, generates the default dictionary (codons as keys, aminoacids as values):"
   ]
  },
  {
   "cell_type": "code",
   "execution_count": 20,
   "metadata": {},
   "outputs": [
    {
     "data": {
      "text/plain": [
       "{'TTT': 'F',\n",
       " 'TTC': 'F',\n",
       " 'TTA': 'L',\n",
       " 'TTG': 'L',\n",
       " 'TCT': 'S',\n",
       " 'TCC': 'S',\n",
       " 'TCA': 'S',\n",
       " 'TCG': 'S',\n",
       " 'TAT': 'Y',\n",
       " 'TAC': 'Y',\n",
       " 'TGT': 'C',\n",
       " 'TGC': 'C',\n",
       " 'TGA': 'W',\n",
       " 'TGG': 'W',\n",
       " 'CTT': 'L',\n",
       " 'CTC': 'L',\n",
       " 'CTA': 'L',\n",
       " 'CTG': 'L',\n",
       " 'CCT': 'P',\n",
       " 'CCC': 'P',\n",
       " 'CCA': 'P',\n",
       " 'CCG': 'P',\n",
       " 'CAT': 'H',\n",
       " 'CAC': 'H',\n",
       " 'CAA': 'Q',\n",
       " 'CAG': 'Q',\n",
       " 'CGT': 'R',\n",
       " 'CGC': 'R',\n",
       " 'CGA': 'R',\n",
       " 'CGG': 'R',\n",
       " 'ATT': 'I',\n",
       " 'ATC': 'I',\n",
       " 'ATA': 'M',\n",
       " 'ATG': 'M',\n",
       " 'ACT': 'T',\n",
       " 'ACC': 'T',\n",
       " 'ACA': 'T',\n",
       " 'ACG': 'T',\n",
       " 'AAT': 'N',\n",
       " 'AAC': 'N',\n",
       " 'AAA': 'K',\n",
       " 'AAG': 'K',\n",
       " 'AGT': 'S',\n",
       " 'AGC': 'S',\n",
       " 'GTT': 'V',\n",
       " 'GTC': 'V',\n",
       " 'GTA': 'V',\n",
       " 'GTG': 'V',\n",
       " 'GCT': 'A',\n",
       " 'GCC': 'A',\n",
       " 'GCA': 'A',\n",
       " 'GCG': 'A',\n",
       " 'GAT': 'D',\n",
       " 'GAC': 'D',\n",
       " 'GAA': 'E',\n",
       " 'GAG': 'E',\n",
       " 'GGT': 'G',\n",
       " 'GGC': 'G',\n",
       " 'GGA': 'G',\n",
       " 'GGG': 'G'}"
      ]
     },
     "execution_count": 20,
     "metadata": {},
     "output_type": "execute_result"
    }
   ],
   "source": [
    "mito.forward_table"
   ]
  },
  {
   "cell_type": "markdown",
   "metadata": {},
   "source": [
    "The other methods allow printing the table's names, id, alphabets and start/stop codons:"
   ]
  },
  {
   "cell_type": "code",
   "execution_count": 21,
   "metadata": {},
   "outputs": [
    {
     "name": "stdout",
     "output_type": "stream",
     "text": [
      "This table's names are: ['Vertebrate Mitochondrial', 'SGC1']\n",
      "This table's id is: 2\n",
      "This table's nucleotide alphabet is: IUPACUnambiguousDNA()\n",
      "This table's protein alphabet is: IUPACProtein()\n",
      "This table's start codons are: ['ATT', 'ATC', 'ATA', 'ATG', 'GTG']\n",
      "This table's stop codons are: ['TAA', 'TAG', 'AGA', 'AGG']\n"
     ]
    }
   ],
   "source": [
    "print(\"This table's names are: {}\".format(mito.names))\n",
    "print(\"This table's id is: {}\".format(mito.id))\n",
    "print(\"This table's nucleotide alphabet is: {}\".format(mito.nucleotide_alphabet))\n",
    "print(\"This table's protein alphabet is: {}\".format(mito.protein_alphabet))\n",
    "print(\"This table's start codons are: {}\".format(mito.start_codons))\n",
    "print(\"This table's stop codons are: {}\".format(mito.stop_codons))\n"
   ]
  },
  {
   "cell_type": "markdown",
   "metadata": {},
   "source": [
    "This is only a basic overview of the CodonTables module. With it, scripts making use of genetic tables can be implemented in a fast, concise and readable way."
   ]
  }
 ],
 "metadata": {
  "kernelspec": {
   "display_name": "Python 3",
   "language": "python",
   "name": "python3"
  },
  "language_info": {
   "codemirror_mode": {
    "name": "ipython",
    "version": 3
   },
   "file_extension": ".py",
   "mimetype": "text/x-python",
   "name": "python",
   "nbconvert_exporter": "python",
   "pygments_lexer": "ipython3",
   "version": "3.7.3"
  }
 },
 "nbformat": 4,
 "nbformat_minor": 4
}
