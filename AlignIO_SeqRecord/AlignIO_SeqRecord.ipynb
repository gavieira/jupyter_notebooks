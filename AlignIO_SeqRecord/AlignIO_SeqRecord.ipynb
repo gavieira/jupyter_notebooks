{
 "cells": [
  {
   "cell_type": "markdown",
   "metadata": {},
   "source": [
    "# Biopython's Align, AlignIO and SeqRecord"
   ]
  },
  {
   "cell_type": "markdown",
   "metadata": {},
   "source": [
    "AlignIO is a module used for parsing multiple sequence alignments.\n",
    "In order to use the AlignIO module, first we need to import it:"
   ]
  },
  {
   "cell_type": "code",
   "execution_count": null,
   "metadata": {},
   "outputs": [],
   "source": [
    "from Bio import AlignIO\n",
    "from Bio.Align import AlignInfo"
   ]
  },
  {
   "cell_type": "markdown",
   "metadata": {},
   "source": [
    "### Excellent material on Biopython:\n",
    "https://biopython.org/DIST/docs/api/Bio-module.html"
   ]
  },
  {
   "cell_type": "markdown",
   "metadata": {},
   "source": [
    "**Align** is generally used for **pairwise alignment** (it can perform the alignment from inside the script or use interfaces for clustalw, muscle, etc...). **AlignIO** is used for the parsing of **both pairwise and (more commonly) multiple sequence alignments**. Both modules have several associated methods: "
   ]
  },
  {
   "cell_type": "code",
   "execution_count": 88,
   "metadata": {},
   "outputs": [
    {
     "data": {
      "text/plain": [
       "['AlignInfo',\n",
       " 'Alphabet',\n",
       " 'MultipleSeqAlignment',\n",
       " 'PairwiseAligner',\n",
       " 'PairwiseAlignment',\n",
       " 'PairwiseAlignments',\n",
       " 'Seq',\n",
       " 'SeqRecord',\n",
       " '_RestrictedDict',\n",
       " '__builtins__',\n",
       " '__cached__',\n",
       " '__doc__',\n",
       " '__file__',\n",
       " '__loader__',\n",
       " '__name__',\n",
       " '__package__',\n",
       " '__path__',\n",
       " '__spec__',\n",
       " '_aligners',\n",
       " 'print_function',\n",
       " 'sys']"
      ]
     },
     "execution_count": 88,
     "metadata": {},
     "output_type": "execute_result"
    }
   ],
   "source": [
    "dir(Align)"
   ]
  },
  {
   "cell_type": "code",
   "execution_count": 89,
   "metadata": {},
   "outputs": [
    {
     "data": {
      "text/plain": [
       "['Alphabet',\n",
       " 'AlphabetEncoder',\n",
       " 'ClustalIO',\n",
       " 'EmbossIO',\n",
       " 'FastaIO',\n",
       " 'Interfaces',\n",
       " 'MafIO',\n",
       " 'MauveIO',\n",
       " 'MultipleSeqAlignment',\n",
       " 'NexusIO',\n",
       " 'PhylipIO',\n",
       " 'StockholmIO',\n",
       " '_FormatToIterator',\n",
       " '_FormatToWriter',\n",
       " '_SeqIO_to_alignment_iterator',\n",
       " '__builtins__',\n",
       " '__cached__',\n",
       " '__doc__',\n",
       " '__file__',\n",
       " '__loader__',\n",
       " '__name__',\n",
       " '__package__',\n",
       " '__path__',\n",
       " '__spec__',\n",
       " '_force_alphabet',\n",
       " '_get_base_alphabet',\n",
       " 'as_handle',\n",
       " 'basestring',\n",
       " 'convert',\n",
       " 'parse',\n",
       " 'print_function',\n",
       " 'read',\n",
       " 'write']"
      ]
     },
     "execution_count": 89,
     "metadata": {},
     "output_type": "execute_result"
    }
   ],
   "source": [
    "dir(AlignIO)"
   ]
  },
  {
   "cell_type": "markdown",
   "metadata": {},
   "source": [
    "---\n",
    "\n",
    "The **AlignIO.parse** object is a generator (with several alignments, each in a **MultipleSeqAlignment object**), while the **AlignIO.read** (used when there is one and only one alignment - multiple or pairwise) returns a single MultipleSeqAlignment object."
   ]
  },
  {
   "cell_type": "markdown",
   "metadata": {},
   "source": [
    "## AlignIO.parse:"
   ]
  },
  {
   "cell_type": "code",
   "execution_count": 90,
   "metadata": {},
   "outputs": [
    {
     "name": "stdout",
     "output_type": "stream",
     "text": [
      "It is a generator with one or more alignments: <class 'generator'> \n",
      "\n",
      "Where each alignment is in a MultipleSeqAlignment object: <class 'Bio.Align.MultipleSeqAlignment'> \n",
      "\n",
      "So, it is needed to iterate over its values (with a for loop, for instance) to access each alignment.\n",
      "\n",
      "SingleLetterAlphabet() alignment with 2 rows and 621 columns\n",
      "--------------------------------------------...--- LC056049.1\n",
      "TATTAATTCGTTTAGAATTAGGAACATGCAATTCTTTAATTTTA...CTG LC056050.1\n"
     ]
    }
   ],
   "source": [
    "alignment = AlignIO.parse(\"alignment.fa\", \"fasta\")\n",
    "print(\"It is a generator with one or more alignments:\", type(alignment), \"\\n\")\n",
    "for i in alignment:\n",
    "    print(\"Where each alignment is in a MultipleSeqAlignment object:\", type(i), \"\\n\")\n",
    "    print(\"So, it is needed to iterate over its values (with a for loop, for instance) to access each alignment.\\n\")\n",
    "    print(i)"
   ]
  },
  {
   "cell_type": "markdown",
   "metadata": {},
   "source": [
    "## AlignIO.read:"
   ]
  },
  {
   "cell_type": "code",
   "execution_count": 91,
   "metadata": {},
   "outputs": [
    {
     "name": "stdout",
     "output_type": "stream",
     "text": [
      "It contains only one alignment in a MultipleSeqAlignment object: <class 'Bio.Align.MultipleSeqAlignment'> \n",
      "\n",
      "SingleLetterAlphabet() alignment with 2 rows and 621 columns\n",
      "--------------------------------------------...--- LC056049.1\n",
      "TATTAATTCGTTTAGAATTAGGAACATGCAATTCTTTAATTTTA...CTG LC056050.1\n"
     ]
    }
   ],
   "source": [
    "alignment = AlignIO.read(\"alignment.fa\", \"fasta\")\n",
    "print(\"It contains only one alignment in a MultipleSeqAlignment object:\", type(alignment), \"\\n\")\n",
    "print(alignment)"
   ]
  },
  {
   "cell_type": "markdown",
   "metadata": {},
   "source": [
    "---\n",
    "## AlignIO methods:\n",
    "\n",
    "You can also use a wide array of methods to get some information from the MultipleSeqAlignment object."
   ]
  },
  {
   "cell_type": "code",
   "execution_count": 224,
   "metadata": {},
   "outputs": [
    {
     "name": "stdout",
     "output_type": "stream",
     "text": [
      "['__add__', '__class__', '__delattr__', '__dict__', '__dir__', '__doc__', '__eq__', '__format__', '__ge__', '__getattribute__', '__getitem__', '__gt__', '__hash__', '__init__', '__init_subclass__', '__iter__', '__le__', '__len__', '__lt__', '__module__', '__ne__', '__new__', '__reduce__', '__reduce_ex__', '__repr__', '__setattr__', '__sizeof__', '__str__', '__subclasshook__', '__weakref__', '_alphabet', '_append', '_get_per_column_annotations', '_per_col_annotations', '_records', '_set_per_column_annotations', '_str_line', 'add_sequence', 'annotations', 'append', 'column_annotations', 'extend', 'format', 'get_alignment_length', 'sort']\n"
     ]
    }
   ],
   "source": [
    "alignment = AlignIO.parse(\"alignment.fa\", \"fasta\")\n",
    "for i in alignment:\n",
    "    print(dir(i))"
   ]
  },
  {
   "cell_type": "markdown",
   "metadata": {},
   "source": [
    "One of the main methods of the AlignIO is the **convert**, that allows conversion between several alignment formats:"
   ]
  },
  {
   "cell_type": "code",
   "execution_count": 225,
   "metadata": {},
   "outputs": [
    {
     "name": "stdout",
     "output_type": "stream",
     "text": [
      "CLUSTAL X (1.81) multiple sequence alignment\n",
      "\n",
      "\n",
      "LC056049.1                          --------------------------------------------------\n",
      "LC056050.1                          TATTAATTCGTTTAGAATTAGGAACATGCAATTCTTTAATTTTAAATGAT\n",
      "\n",
      "LC056049.1                          -------------------------------CTTTTATTATAATTTTTTT\n",
      "LC056050.1                          CAAATTTATAATTCATTAATTACAAGTCATGCTTTTATTATAATTTTTTT\n",
      "\n",
      "LC056049.1                          TATAGTTATACCTTTTATAATTGGGGGGTTTGGGAATTATTTAGTTCCAT\n",
      "LC056050.1                          TATAGTTATACCTTTTATAATTGGTGGATTTGGTAATTATTTAGTACCCT\n",
      "\n",
      "LC056049.1                          TAATGTTAGGATCTCCTGACATAGCATTTCCACGTATAAATAACATAAGA\n",
      "LC056050.1                          TAATATTAGGATCTCCAGATATAGCATATCCTCGAATAAATAATATAAGA\n",
      "\n",
      "LC056049.1                          TTTTGGTTACTTCCACCTTCATTAATTTTATTATTATCAAGAAGAATAGT\n",
      "LC056050.1                          TTTTGATTACTTCCTCCTTCATTAATTTTATTGTTATCAAGAAGAATAGT\n",
      "\n",
      "LC056049.1                          TTATTCAGGAGTTGGAACTGGTTGAACAGTATACCCGCCTTTATCAAATA\n",
      "LC056050.1                          TTTTAGAGGAGTAGGAACTGGATGAACAGTTTATCCTTCATTATCAAATA\n",
      "\n",
      "LC056049.1                          ATTTATATCATAATGGATATTCAACAGATTTAGCTATTTTTTCATTACAT\n",
      "LC056050.1                          ATTTATATCATAATGGATATTCAACTGATTTAGCAATTTTTTCACTTCAT\n",
      "\n",
      "LC056049.1                          ATCGCTGGAATATCATCAATTATAGGAGCAATTAATTTTATTTCTACAAT\n",
      "LC056050.1                          ATTGCTGGAATATCTTCAATTATAGGAGCAATTAATTTTATTTCAACAAT\n",
      "\n",
      "LC056049.1                          TTTTAATATACATCATAAAAATATTTCTTTAGATAAAATTCCTTTAATAG\n",
      "LC056050.1                          TTTAAATATACATCATAAAAATTTATCTTTAGATAAAATTTCACTATTAG\n",
      "\n",
      "LC056049.1                          TCTGATCAATTTTAATTACAGMTATTTTACTTTTGTTATCTTTACCTGTT\n",
      "LC056050.1                          TTTGATCAATTTTAATTACAGCTATTTTACTTTTATTATCATTACCTGTT\n",
      "\n",
      "LC056049.1                          TTAGCTGGAGCT--------------------------------------\n",
      "LC056050.1                          TTAGCAGGAGCAATTACAATATTATTAACAGATCGAAATTTAAATACTTC\n",
      "\n",
      "LC056049.1                          --------------------------------------------------\n",
      "LC056050.1                          ATTTTTTGATCCTTCAGGAGGTGGAGATCCAATTTTATATCAACATTTAT\n",
      "\n",
      "LC056049.1                          ---------------------\n",
      "LC056050.1                          TTTGATTTYTCGGTCACCCTG\n",
      "\n",
      "\n",
      "\n",
      " 2 621\n",
      "LC056049.1 ---------- ---------- ---------- ---------- ----------\n",
      "LC056050.1 TATTAATTCG TTTAGAATTA GGAACATGCA ATTCTTTAAT TTTAAATGAT\n",
      "\n",
      "           ---------- ---------- ---------- -CTTTTATTA TAATTTTTTT\n",
      "           CAAATTTATA ATTCATTAAT TACAAGTCAT GCTTTTATTA TAATTTTTTT\n",
      "\n",
      "           TATAGTTATA CCTTTTATAA TTGGGGGGTT TGGGAATTAT TTAGTTCCAT\n",
      "           TATAGTTATA CCTTTTATAA TTGGTGGATT TGGTAATTAT TTAGTACCCT\n",
      "\n",
      "           TAATGTTAGG ATCTCCTGAC ATAGCATTTC CACGTATAAA TAACATAAGA\n",
      "           TAATATTAGG ATCTCCAGAT ATAGCATATC CTCGAATAAA TAATATAAGA\n",
      "\n",
      "           TTTTGGTTAC TTCCACCTTC ATTAATTTTA TTATTATCAA GAAGAATAGT\n",
      "           TTTTGATTAC TTCCTCCTTC ATTAATTTTA TTGTTATCAA GAAGAATAGT\n",
      "\n",
      "           TTATTCAGGA GTTGGAACTG GTTGAACAGT ATACCCGCCT TTATCAAATA\n",
      "           TTTTAGAGGA GTAGGAACTG GATGAACAGT TTATCCTTCA TTATCAAATA\n",
      "\n",
      "           ATTTATATCA TAATGGATAT TCAACAGATT TAGCTATTTT TTCATTACAT\n",
      "           ATTTATATCA TAATGGATAT TCAACTGATT TAGCAATTTT TTCACTTCAT\n",
      "\n",
      "           ATCGCTGGAA TATCATCAAT TATAGGAGCA ATTAATTTTA TTTCTACAAT\n",
      "           ATTGCTGGAA TATCTTCAAT TATAGGAGCA ATTAATTTTA TTTCAACAAT\n",
      "\n",
      "           TTTTAATATA CATCATAAAA ATATTTCTTT AGATAAAATT CCTTTAATAG\n",
      "           TTTAAATATA CATCATAAAA ATTTATCTTT AGATAAAATT TCACTATTAG\n",
      "\n",
      "           TCTGATCAAT TTTAATTACA GMTATTTTAC TTTTGTTATC TTTACCTGTT\n",
      "           TTTGATCAAT TTTAATTACA GCTATTTTAC TTTTATTATC ATTACCTGTT\n",
      "\n",
      "           TTAGCTGGAG CT-------- ---------- ---------- ----------\n",
      "           TTAGCAGGAG CAATTACAAT ATTATTAACA GATCGAAATT TAAATACTTC\n",
      "\n",
      "           ---------- ---------- ---------- ---------- ----------\n",
      "           ATTTTTTGAT CCTTCAGGAG GTGGAGATCC AATTTTATAT CAACATTTAT\n",
      "\n",
      "           ---------- ---------- -\n",
      "           TTTGATTTYT CGGTCACCCT G\n",
      "\n"
     ]
    }
   ],
   "source": [
    "alignment = AlignIO.parse(\"alignment.fa\", \"fasta\")\n",
    "for i in alignment:\n",
    "    print(i.format(\"clustal\"))\n",
    "    print(i.format(\"phylip\"))"
   ]
  },
  {
   "cell_type": "markdown",
   "metadata": {},
   "source": [
    "You can also get the length of the alignment:"
   ]
  },
  {
   "cell_type": "code",
   "execution_count": 226,
   "metadata": {},
   "outputs": [
    {
     "name": "stdout",
     "output_type": "stream",
     "text": [
      "621\n"
     ]
    }
   ],
   "source": [
    "alignment = AlignIO.parse(\"alignment.fa\", \"fasta\")\n",
    "for i in alignment:\n",
    "    print(i.get_alignment_length())"
   ]
  },
  {
   "cell_type": "markdown",
   "metadata": {},
   "source": [
    "Or the number of sequences that have been aligned in each alignment:"
   ]
  },
  {
   "cell_type": "code",
   "execution_count": 227,
   "metadata": {},
   "outputs": [
    {
     "name": "stdout",
     "output_type": "stream",
     "text": [
      "2\n"
     ]
    }
   ],
   "source": [
    "alignment = AlignIO.parse(\"alignment.fa\", \"fasta\")\n",
    "for i in alignment:\n",
    "    print(len(i))"
   ]
  },
  {
   "cell_type": "markdown",
   "metadata": {},
   "source": [
    "Or any subsequences or collumn(s) by index (i.e. a **sub-alignment**):"
   ]
  },
  {
   "cell_type": "code",
   "execution_count": 371,
   "metadata": {},
   "outputs": [
    {
     "name": "stdout",
     "output_type": "stream",
     "text": [
      "The first collums is: -T\n",
      "\n",
      "The first 50 collums are:\n",
      "\n",
      " SingleLetterAlphabet() alignment with 2 rows and 50 columns\n",
      "-------------------------------------------------- LC056049.1\n",
      "TATTAATTCGTTTAGAATTAGGAACATGCAATTCTTTAATTTTAAATGAT LC056050.1\n",
      "\n",
      "\n",
      "The last 200 collums are:\n",
      "\n",
      " SingleLetterAlphabet() alignment with 2 rows and 200 columns\n",
      "TATTTCTTTAGATAAAATTCCTTTAATAGTCTGATCAATTTTAA...--- LC056049.1\n",
      "TTTATCTTTAGATAAAATTTCACTATTAGTTTGATCAATTTTAA...CTG LC056050.1\n",
      "\n",
      "\n",
      "The first 20 nucleotides for the second species in the alignment (LC056050.1) are: TATTAATTCGTTTAGAATTA\n"
     ]
    }
   ],
   "source": [
    "alignment = AlignIO.parse(\"alignment.fa\", \"fasta\")\n",
    "for i in alignment:\n",
    "    print(\"The first collums is: {}\\n\".format(i[:, 0])) ##Get the alignment at index 0 for all species \"[:]\"\n",
    "    print(\"The first 50 collums are:\\n\\n {}\\n\\n\".format(i[:, :50]))\n",
    "    print(\"The last 200 collums are:\\n\\n {}\\n\\n\".format(i[:, -200:]))\n",
    "    print(\"The first 20 nucleotides for the second species in the alignment ({}) are: {}\".format(i[1].id, i[1, :20].seq))"
   ]
  },
  {
   "cell_type": "markdown",
   "metadata": {},
   "source": [
    "The MultipleSeqAlignment objects are basically **lists of SeqRecord objects**, with each record corresponding to a row. And you can access individual rows from the alignment:"
   ]
  },
  {
   "cell_type": "code",
   "execution_count": 272,
   "metadata": {},
   "outputs": [
    {
     "name": "stdout",
     "output_type": "stream",
     "text": [
      "Row 0 class: <class 'Bio.SeqRecord.SeqRecord'>\n",
      "ID: LC056049.1\n",
      "Name: LC056049.1\n",
      "Description: LC056049.1 Odontomachus simillimus mitochondrial COX1 gene for cytochrome c oxidase subunit 1, complete cds, isolate: RJ20141114-4\n",
      "Number of features: 0\n",
      "Seq('------------------------------------------------------...---', SingleLetterAlphabet())\n",
      "\n",
      "Row 1 class: <class 'Bio.SeqRecord.SeqRecord'>\n",
      "ID: LC056050.1\n",
      "Name: LC056050.1\n",
      "Description: LC056050.1 Odontomachus rixosus mitochondrial COX1 gene for cytochrome c oxidase subunit 1, complete cds, isolate: RJ20141114-2\n",
      "Number of features: 0\n",
      "Seq('TATTAATTCGTTTAGAATTAGGAACATGCAATTCTTTAATTTTAAATGATCAAA...CTG', SingleLetterAlphabet())\n",
      "\n"
     ]
    }
   ],
   "source": [
    "alignment = AlignIO.parse(\"alignment.fa\", \"fasta\")\n",
    "for i in alignment:\n",
    "    for num in range(len(i)):\n",
    "        print(\"Row {} class: {}\\n{}\\n\".format(num, type(i[num]), i[num]))"
   ]
  },
  {
   "cell_type": "markdown",
   "metadata": {},
   "source": [
    "Actually, each row (or each SeqRecord object) has a few associated methods that allows us to retrive the row's ID, sequence, reverse complement or translation, among others:"
   ]
  },
  {
   "cell_type": "code",
   "execution_count": 354,
   "metadata": {},
   "outputs": [
    {
     "name": "stdout",
     "output_type": "stream",
     "text": [
      "['__add__', '__bool__', '__class__', '__contains__', '__delattr__', '__dict__', '__dir__', '__doc__', '__eq__', '__format__', '__ge__', '__getattribute__', '__getitem__', '__gt__', '__hash__', '__init__', '__init_subclass__', '__iter__', '__le__', '__le___', '__len__', '__lt__', '__module__', '__ne__', '__new__', '__nonzero__', '__radd__', '__reduce__', '__reduce_ex__', '__repr__', '__setattr__', '__sizeof__', '__str__', '__subclasshook__', '__weakref__', '_per_letter_annotations', '_seq', '_set_per_letter_annotations', '_set_seq', 'annotations', 'dbxrefs', 'description', 'features', 'format', 'id', 'letter_annotations', 'lower', 'name', 'reverse_complement', 'seq', 'translate', 'upper'] \n",
      "\n",
      "This sequence's id is: LC056050.1 \n",
      "\n",
      "This sequence's description is: LC056050.1 Odontomachus rixosus mitochondrial COX1 gene for cytochrome c oxidase subunit 1, complete cds, isolate: RJ20141114-2 \n",
      "\n",
      "This sequence's name is: LC056050.1 \n",
      "\n",
      "This sequence's fasta record is:\n",
      " >LC056050.1 Odontomachus rixosus mitochondrial COX1 gene for cytochrome c oxidase subunit 1, complete cds, isolate: RJ20141114-2\n",
      "TTAATTCGTTTAGAATTAGGAACATGCAATTCTTTAATTTTAAATGATCAAATTTATAAT\n",
      "TCATTAATTACAAGTCATGCTTTTATTATAATTTTTTTTATAGTTATACCTTTTATAATT\n",
      "GGTGGATTTGGTAATTATTTAGTACCCTTAATATTAGGATCTCCAGATATAGCATATCCT\n",
      "CGAATAAATAATATAAGATTTTGATTACTTCCTCCTTCATTAATTTTATTGTTATCAAGA\n",
      "AGAATAGTTTTTAGAGGAGTAGGAACTGGATGAACAGTTTATCCTTCATTATCAAATAAT\n",
      "TTATATCATAATGGATATTCAACTGATTTAGCAATTTTTTCACTTCATATTGCTGGAATA\n",
      "TCTTCAATTATAGGAGCAATTAATTTTATTTCAACAATTTTAAATATACATCATAAAAAT\n",
      "TTATCTTTAGATAAAATTTCACTATTAGTTTGATCAATTTTAATTACAGCTATTTTACTT\n",
      "TTATTATCATTACCTGTTTTAGCAGGAGCAATTACAATATTATTAACAGATCGAAATTTA\n",
      "AATACTTCATTTTTTGATCCTTCAGGAGGTGGAGATCCAATTTTATATCAACATTTATTT\n",
      "TGATTTYTCGGTCACCCTGNN\n",
      " \n",
      "\n",
      "This sequence's reverse complement is:\n",
      " >LC056050.1 reverse complement\n",
      "NNCAGGGTGACCGARAAATCAAAATAAATGTTGATATAAAATTGGATCTCCACCTCCTGA\n",
      "AGGATCAAAAAATGAAGTATTTAAATTTCGATCTGTTAATAATATTGTAATTGCTCCTGC\n",
      "TAAAACAGGTAATGATAATAAAAGTAAAATAGCTGTAATTAAAATTGATCAAACTAATAG\n",
      "TGAAATTTTATCTAAAGATAAATTTTTATGATGTATATTTAAAATTGTTGAAATAAAATT\n",
      "AATTGCTCCTATAATTGAAGATATTCCAGCAATATGAAGTGAAAAAATTGCTAAATCAGT\n",
      "TGAATATCCATTATGATATAAATTATTTGATAATGAAGGATAAACTGTTCATCCAGTTCC\n",
      "TACTCCTCTAAAAACTATTCTTCTTGATAACAATAAAATTAATGAAGGAGGAAGTAATCA\n",
      "AAATCTTATATTATTTATTCGAGGATATGCTATATCTGGAGATCCTAATATTAAGGGTAC\n",
      "TAAATAATTACCAAATCCACCAATTATAAAAGGTATAACTATAAAAAAAATTATAATAAA\n",
      "AGCATGACTTGTAATTAATGAATTATAAATTTGATCATTTAAAATTAAAGAATTGCATGT\n",
      "TCCTAATTCTAAACGAATTAA\n",
      "\n",
      "This sequence's translation is:\n",
      " >LC056050.1 translation\n",
      "LIRLELGTCNSLILNDQIYNSLITSHAFIMIFFMVMPFMIGGFGNYLVPLMLGSPDMAYP\n",
      "RMNNMSFWLLPPSLILLLSSSMVFSGVGTGWTVYPSLSNNLYHNGYSTDLAIFSLHIAGM\n",
      "SSIMGAINFISTILNMHHKNLSLDKISLLVWSILITAILLLLSLPVLAGAITMLLTDRNL\n",
      "NTSFFDPSGGGDPILYQHLFWFXGHPX\n",
      "\n",
      "This sequence has 206 A, 264 T, 78 C, 70 G.\n",
      "\n",
      "This sequence has 5 ATG codons.\n",
      "\n",
      "The first occurence of an ATG codon is at index 23.\n",
      "\n"
     ]
    }
   ],
   "source": [
    "alignment = AlignIO.parse(\"alignment.fa\", \"fasta\")\n",
    "for i in alignment:\n",
    "    i[1].seq = i[1].seq[2:] + \"NN\" ##Needed because this sequence does not start at the start codon\n",
    "    print(dir(i[1]),\"\\n\")\n",
    "    print(\"This sequence's id is:\", i[1].id, \"\\n\")\n",
    "    print(\"This sequence's description is:\", i[1].description, \"\\n\")\n",
    "    print(\"This sequence's name is:\", i[1].name, \"\\n\") ##In a genbank, the name would not have the .1 at the end\n",
    "    print(\"This sequence's fasta record is:\\n\", i[1].format(\"fasta\"), \"\\n\")\n",
    "    print(\"This sequence's reverse complement is:\\n\", i[1].reverse_complement(id=i[1].id, description=\"reverse complement\").format(\"fasta\"))\n",
    "    print(\"This sequence's translation is:\\n\", i[1].translate(table=5, id=i[1].id, description=\"translation\").format(\"fasta\"))\n",
    "    print(\"This sequence has {} A, {} T, {} C, {} G.\\n\".format(i[1].seq.count(\"A\"), i[1].seq.count(\"T\"), i[1].seq.count(\"C\"), i[1].seq.count(\"G\")))\n",
    "    print(\"This sequence has {} ATG codons.\\n\".format(i[1].seq.count(\"ATG\")))\n",
    "    print(\"The first occurence of an ATG codon is at index {}.\\n\".format(i[1].seq.find(\"ATG\")))"
   ]
  },
  {
   "cell_type": "code",
   "execution_count": 320,
   "metadata": {},
   "outputs": [
    {
     "name": "stdout",
     "output_type": "stream",
     "text": [
      "['__add__', '__bool__', '__class__', '__contains__', '__delattr__', '__dict__', '__dir__', '__doc__', '__eq__', '__format__', '__ge__', '__getattribute__', '__getitem__', '__gt__', '__hash__', '__init__', '__init_subclass__', '__iter__', '__le__', '__le___', '__len__', '__lt__', '__module__', '__ne__', '__new__', '__nonzero__', '__radd__', '__reduce__', '__reduce_ex__', '__repr__', '__setattr__', '__sizeof__', '__str__', '__subclasshook__', '__weakref__', '_per_letter_annotations', '_seq', '_set_per_letter_annotations', '_set_seq', 'annotations', 'dbxrefs', 'description', 'features', 'format', 'id', 'letter_annotations', 'lower', 'name', 'reverse_complement', 'seq', 'translate', 'upper'] \n",
      "\n"
     ]
    }
   ],
   "source": [
    "alignment = AlignIO.parse(\"alignment.fa\", \"fasta\")\n",
    "for i in alignment:\n",
    "    print(dir(i[1]),\"\\n\")\n",
    "    i[1].seq[:3]"
   ]
  },
  {
   "cell_type": "markdown",
   "metadata": {},
   "source": [
    "Having that in mind, we can get individual fasta records from the alignments (gapped or ungapped):"
   ]
  },
  {
   "cell_type": "code",
   "execution_count": 343,
   "metadata": {},
   "outputs": [
    {
     "name": "stdout",
     "output_type": "stream",
     "text": [
      ">LC056049.1_GAPPED\n",
      "---------------------------------------------------------------------------------CTTTTATTATAATTTTTTTTATAGTTATACCTTTTATAATTGGGGGGTTTGGGAATTATTTAGTTCCATTAATGTTAGGATCTCCTGACATAGCATTTCCACGTATAAATAACATAAGATTTTGGTTACTTCCACCTTCATTAATTTTATTATTATCAAGAAGAATAGTTTATTCAGGAGTTGGAACTGGTTGAACAGTATACCCGCCTTTATCAAATAATTTATATCATAATGGATATTCAACAGATTTAGCTATTTTTTCATTACATATCGCTGGAATATCATCAATTATAGGAGCAATTAATTTTATTTCTACAATTTTTAATATACATCATAAAAATATTTCTTTAGATAAAATTCCTTTAATAGTCTGATCAATTTTAATTACAGMTATTTTACTTTTGTTATCTTTACCTGTTTTAGCTGGAGCT-------------------------------------------------------------------------------------------------------------\n",
      ">LC056049.1_UNGAPPED\n",
      "CTTTTATTATAATTTTTTTTATAGTTATACCTTTTATAATTGGGGGGTTTGGGAATTATTTAGTTCCATTAATGTTAGGATCTCCTGACATAGCATTTCCACGTATAAATAACATAAGATTTTGGTTACTTCCACCTTCATTAATTTTATTATTATCAAGAAGAATAGTTTATTCAGGAGTTGGAACTGGTTGAACAGTATACCCGCCTTTATCAAATAATTTATATCATAATGGATATTCAACAGATTTAGCTATTTTTTCATTACATATCGCTGGAATATCATCAATTATAGGAGCAATTAATTTTATTTCTACAATTTTTAATATACATCATAAAAATATTTCTTTAGATAAAATTCCTTTAATAGTCTGATCAATTTTAATTACAGMTATTTTACTTTTGTTATCTTTACCTGTTTTAGCTGGAGCT\n"
     ]
    }
   ],
   "source": [
    "alignment = AlignIO.parse(\"alignment.fa\", \"fasta\")\n",
    "for i in alignment:\n",
    "    fasta_gap = \">{}_GAPPED\\n{}\".format(i[0].id, i[0].seq)\n",
    "    fasta_ungap = \">{}_UNGAPPED\\n{}\".format(i[0].id, i[0].seq.ungap(gap=\"-\"))\n",
    "    print(fasta_gap)\n",
    "    print(fasta_ungap)"
   ]
  },
  {
   "cell_type": "markdown",
   "metadata": {},
   "source": [
    "---\n",
    "## SeqRecord\n",
    "\n",
    "\"The SeqRecord object is used in Biopython to hold a sequence (as a Seq object) with identifiers (ID and name), description and optionally annotation and sub-features.\"\n",
    "\n",
    "The SeqRecord object works for both fasta and genbank files. An very interesting introduction to [SeqRecord](https://biopython.org/wiki/SeqRecord) and [Seq](https://biopython.org/wiki/Seq) objects can be found at https://biopython.org."
   ]
  },
  {
   "cell_type": "markdown",
   "metadata": {},
   "source": [
    "---\n",
    "## AlignInfo\n",
    "\n",
    "The AlignInfo module of the Align module provides a few fucntionalities to extract information from an MultipleSeqAlignment object."
   ]
  },
  {
   "cell_type": "code",
   "execution_count": 200,
   "metadata": {},
   "outputs": [
    {
     "name": "stdout",
     "output_type": "stream",
     "text": [
      "['__class__', '__delattr__', '__dict__', '__dir__', '__doc__', '__eq__', '__format__', '__ge__', '__getattribute__', '__gt__', '__hash__', '__init__', '__init_subclass__', '__le__', '__lt__', '__module__', '__ne__', '__new__', '__reduce__', '__reduce_ex__', '__repr__', '__setattr__', '__sizeof__', '__str__', '__subclasshook__', '__weakref__', '_get_all_letters', '_get_base_letters', '_get_base_replacements', '_get_column_info_content', '_get_gap_char', '_get_letter_freqs', '_guess_consensus_alphabet', '_pair_replacement', 'alignment', 'dumb_consensus', 'gap_consensus', 'get_column', 'ic_vector', 'information_content', 'pos_specific_score_matrix', 'replacement_dictionary']\n"
     ]
    }
   ],
   "source": [
    "alignment = AlignIO.read(\"alignment.fa\", \"fasta\") ##First, we need to create the alignment object\n",
    "\n",
    "summary = AlignInfo.SummaryInfo(alignment)\n",
    "print(dir(summary))"
   ]
  },
  {
   "cell_type": "markdown",
   "metadata": {},
   "source": [
    "You can get, for instance, the alignment object per se:"
   ]
  },
  {
   "cell_type": "code",
   "execution_count": 201,
   "metadata": {},
   "outputs": [
    {
     "name": "stdout",
     "output_type": "stream",
     "text": [
      "SingleLetterAlphabet() alignment with 2 rows and 621 columns\n",
      "--------------------------------------------...--- LC056049.1\n",
      "TATTAATTCGTTTAGAATTAGGAACATGCAATTCTTTAATTTTA...CTG LC056050.1\n"
     ]
    },
    {
     "data": {
      "text/plain": [
       "<<class 'Bio.Align.MultipleSeqAlignment'> instance (2 records of length 621, SingleLetterAlphabet()) at 7f326d3f0390>"
      ]
     },
     "execution_count": 201,
     "metadata": {},
     "output_type": "execute_result"
    }
   ],
   "source": [
    "print(summary.alignment)\n",
    "summary.alignment"
   ]
  },
  {
   "cell_type": "markdown",
   "metadata": {},
   "source": [
    "Generate a consensus of the alignment (no_gaps):"
   ]
  },
  {
   "cell_type": "code",
   "execution_count": 202,
   "metadata": {},
   "outputs": [
    {
     "name": "stdout",
     "output_type": "stream",
     "text": [
      "TATTAATTCGTTTAGAATTAGGAACATGCAATTCTTTAATTTTAAATGATCAAATTTATAATTCATTAATTACAAGTCATGCTTTTATTATAATTTTTTTTATAGTTATACCTTTTATAATTGG?GG?TTTGG?AATTATTTAGT?CC?TTAAT?TTAGGATCTCC?GA?ATAGCAT?TCC?CG?ATAAATAA?ATAAGATTTTG?TTACTTCC?CCTTCATTAATTTTATT?TTATCAAGAAGAATAGTTT?T??AGGAGT?GGAACTGG?TGAACAGT?TA?CC??C?TTATCAAATAATTTATATCATAATGGATATTCAAC?GATTTAGC?ATTTTTTCA?T?CATAT?GCTGGAATATC?TCAATTATAGGAGCAATTAATTTTATTTC?ACAATTTT?AATATACATCATAAAAAT?T?TCTTTAGATAAAATT?C??TA?TAGT?TGATCAATTTTAATTACAG?TATTTTACTTTT?TTATC?TTACCTGTTTTAGC?GGAGC?ATTACAATATTATTAACAGATCGAAATTTAAATACTTCATTTTTTGATCCTTCAGGAGGTGGAGATCCAATTTTATATCAACATTTATTTTGATTTYTCGGTCACCCTG\n"
     ]
    }
   ],
   "source": [
    "print(summary.dumb_consensus(ambiguous=\"?\"))"
   ]
  },
  {
   "cell_type": "markdown",
   "metadata": {},
   "source": [
    "Generate a gapped consensus:"
   ]
  },
  {
   "cell_type": "code",
   "execution_count": 203,
   "metadata": {},
   "outputs": [
    {
     "name": "stdout",
     "output_type": "stream",
     "text": [
      "---------------------------------------------------------------------------------CTTTTATTATAATTTTTTTTATAGTTATACCTTTTATAATTGG-GG-TTTGG-AATTATTTAGT-CC-TTAAT-TTAGGATCTCC-GA-ATAGCAT-TCC-CG-ATAAATAA-ATAAGATTTTG-TTACTTCC-CCTTCATTAATTTTATT-TTATCAAGAAGAATAGTTT-T--AGGAGT-GGAACTGG-TGAACAGT-TA-CC--C-TTATCAAATAATTTATATCATAATGGATATTCAAC-GATTTAGC-ATTTTTTCA-T-CATAT-GCTGGAATATC-TCAATTATAGGAGCAATTAATTTTATTTC-ACAATTTT-AATATACATCATAAAAAT-T-TCTTTAGATAAAATT-C--TA-TAGT-TGATCAATTTTAATTACAG-TATTTTACTTTT-TTATC-TTACCTGTTTTAGC-GGAGC--------------------------------------------------------------------------------------------------------------\n"
     ]
    }
   ],
   "source": [
    "print(summary.gap_consensus(ambiguous=\"-\"))"
   ]
  },
  {
   "cell_type": "markdown",
   "metadata": {},
   "source": [
    "Or obtain a certain collumn or range of collumns:"
   ]
  },
  {
   "cell_type": "code",
   "execution_count": 210,
   "metadata": {},
   "outputs": [
    {
     "name": "stdout",
     "output_type": "stream",
     "text": [
      "['-T', '-A', '-T', '-T', '-A', '-A', '-T', '-T', '-C', '-G', '-T', '-T', '-T', '-A', '-G', '-A', '-A', '-T', '-T', '-A', '-G', '-G', '-A', '-A', '-C', '-A', '-T', '-G', '-C', '-A', '-A', '-T', '-T', '-C', '-T', '-T', '-T', '-A', '-A', '-T', '-T', '-T', '-T', '-A', '-A', '-A', '-T', '-G', '-A', '-T', '-C', '-A', '-A', '-A', '-T', '-T', '-T', '-A', '-T', '-A', '-A', '-T', '-T', '-C', '-A', '-T', '-T', '-A', '-A', '-T', '-T', '-A', '-C', '-A', '-A', '-G', '-T', '-C', '-A', '-T', '-G', 'CC', 'TT', 'TT', 'TT', 'TT', 'AA', 'TT', 'TT', 'AA', 'TT', 'AA', 'AA', 'TT', 'TT', 'TT', 'TT', 'TT', 'TT', 'TT', 'TT', 'AA', 'TT', 'AA', 'GG', 'TT', 'TT', 'AA', 'TT', 'AA', 'CC', 'CC', 'TT', 'TT', 'TT', 'TT', 'AA', 'TT', 'AA', 'AA', 'TT', 'TT', 'GG', 'GG', 'GT', 'GG', 'GG', 'GA', 'TT', 'TT', 'TT', 'GG', 'GG', 'GT', 'AA', 'AA', 'TT', 'TT', 'AA', 'TT', 'TT', 'TT', 'AA', 'GG', 'TT', 'TA', 'CC', 'CC', 'AC', 'TT', 'TT', 'AA', 'AA', 'TT', 'GA', 'TT', 'TT', 'AA', 'GG', 'GG', 'AA', 'TT', 'CC', 'TT', 'CC', 'CC', 'TA', 'GG', 'AA', 'CT', 'AA', 'TT', 'AA', 'GG', 'CC', 'AA', 'TT', 'TA', 'TT', 'CC', 'CC', 'AT', 'CC', 'GG', 'TA', 'AA', 'TT', 'AA', 'AA', 'AA', 'TT', 'AA', 'AA', 'CT', 'AA', 'TT', 'AA', 'AA', 'GG', 'AA', 'TT', 'TT', 'TT', 'TT', 'GG', 'GA', 'TT', 'TT', 'AA', 'CC', 'TT', 'TT', 'CC', 'CC', 'AT', 'CC', 'CC', 'TT', 'TT', 'CC', 'AA', 'TT', 'TT', 'AA', 'AA', 'TT', 'TT', 'TT', 'TT', 'AA', 'TT', 'TT', 'AG', 'TT', 'TT', 'AA', 'TT', 'CC', 'AA', 'AA', 'GG', 'AA', 'AA', 'GG', 'AA', 'AA', 'TT', 'AA', 'GG', 'TT', 'TT', 'TT', 'AT', 'TT', 'TA', 'CG', 'AA', 'GG', 'GG', 'AA', 'GG', 'TT', 'TA', 'GG', 'GG', 'AA', 'AA', 'CC', 'TT', 'GG', 'GG', 'TA', 'TT', 'GG', 'AA', 'AA', 'CC', 'AA', 'GG', 'TT', 'AT', 'TT', 'AA', 'CT', 'CC', 'CC', 'GT', 'CT', 'CC', 'TA', 'TT', 'TT', 'AA', 'TT', 'CC', 'AA', 'AA', 'AA', 'TT', 'AA', 'AA', 'TT', 'TT', 'TT', 'AA', 'TT', 'AA', 'TT', 'CC', 'AA', 'TT', 'AA', 'AA', 'TT', 'GG', 'GG', 'AA', 'TT', 'AA', 'TT', 'TT', 'CC', 'AA', 'AA', 'CC', 'AT', 'GG', 'AA', 'TT', 'TT', 'TT', 'AA', 'GG', 'CC', 'TA', 'AA', 'TT', 'TT', 'TT', 'TT', 'TT', 'TT', 'CC', 'AA', 'TC', 'TT', 'AT', 'CC', 'AA', 'TT', 'AA', 'TT', 'CT', 'GG', 'CC', 'TT', 'GG', 'GG', 'AA', 'AA', 'TT', 'AA', 'TT', 'CC', 'AT', 'TT', 'CC', 'AA', 'AA', 'TT', 'TT', 'AA', 'TT', 'AA', 'GG', 'GG', 'AA', 'GG', 'CC', 'AA', 'AA', 'TT', 'TT', 'AA', 'AA', 'TT', 'TT', 'TT', 'TT', 'AA', 'TT', 'TT', 'TT', 'CC', 'TA', 'AA', 'CC', 'AA', 'AA', 'TT', 'TT', 'TT', 'TT', 'TA', 'AA', 'AA', 'TT', 'AA', 'TT', 'AA', 'CC', 'AA', 'TT', 'CC', 'AA', 'TT', 'AA', 'AA', 'AA', 'AA', 'AA', 'TT', 'AT', 'TT', 'TA', 'TT', 'CC', 'TT', 'TT', 'TT', 'AA', 'GG', 'AA', 'TT', 'AA', 'AA', 'AA', 'AA', 'TT', 'TT', 'CT', 'CC', 'TA', 'TC', 'TT', 'AA', 'AT', 'TT', 'AA', 'GG', 'TT', 'CT', 'TT', 'GG', 'AA', 'TT', 'CC', 'AA', 'AA', 'TT', 'TT', 'TT', 'TT', 'AA', 'AA', 'TT', 'TT', 'AA', 'CC', 'AA', 'GG', 'MC', 'TT', 'AA', 'TT', 'TT', 'TT', 'TT', 'AA', 'CC', 'TT', 'TT', 'TT', 'TT', 'GA', 'TT', 'TT', 'AA', 'TT', 'CC', 'TA', 'TT', 'TT', 'AA', 'CC', 'CC', 'TT', 'GG', 'TT', 'TT', 'TT', 'TT', 'AA', 'GG', 'CC', 'TA', 'GG', 'GG', 'AA', 'GG', 'CC', 'TA', '-A', '-T', '-T', '-A', '-C', '-A', '-A', '-T', '-A', '-T', '-T', '-A', '-T', '-T', '-A', '-A', '-C', '-A', '-G', '-A', '-T', '-C', '-G', '-A', '-A', '-A', '-T', '-T', '-T', '-A', '-A', '-A', '-T', '-A', '-C', '-T', '-T', '-C', '-A', '-T', '-T', '-T', '-T', '-T', '-T', '-G', '-A', '-T', '-C', '-C', '-T', '-T', '-C', '-A', '-G', '-G', '-A', '-G', '-G', '-T', '-G', '-G', '-A', '-G', '-A', '-T', '-C', '-C', '-A', '-A', '-T', '-T', '-T', '-T', '-A', '-T', '-A', '-T', '-C', '-A', '-A', '-C', '-A', '-T', '-T', '-T', '-A', '-T', '-T', '-T', '-T', '-G', '-A', '-T', '-T', '-T', '-Y', '-T', '-C', '-G', '-G', '-T', '-C', '-A', '-C', '-C', '-C', '-T', '-G']\n"
     ]
    }
   ],
   "source": [
    "collumns = list()\n",
    "\n",
    "for i in range(alignment.get_alignment_length()):\n",
    "    collumns.append(summary.get_column(i))\n",
    "print(collumns)"
   ]
  },
  {
   "cell_type": "markdown",
   "metadata": {},
   "source": [
    "If you want to know the number of (un)gapped sites:"
   ]
  },
  {
   "cell_type": "code",
   "execution_count": 214,
   "metadata": {},
   "outputs": [
    {
     "name": "stdout",
     "output_type": "stream",
     "text": [
      "The number of gapped sites is 190, while valid positions ammount to 431 sites. Total alignment length is 621.\n"
     ]
    }
   ],
   "source": [
    "gap = 0\n",
    "ungap = 0\n",
    "\n",
    "for i in collumns:\n",
    "    if \"-\" in i:\n",
    "        gap += 1\n",
    "    else:\n",
    "        ungap +=1\n",
    "\n",
    "print(\"The number of gapped sites is {}, while valid positions ammount to {} sites. Total alignment length is {}.\".format(gap, ungap, alignment.get_alignment_length()))"
   ]
  },
  {
   "cell_type": "markdown",
   "metadata": {},
   "source": [
    "These are only a few examples of what Align;AlignIO (and the Biopython module in general) can do in only a few lines of code. Live long and prosper and happy parsing!"
   ]
  }
 ],
 "metadata": {
  "kernelspec": {
   "display_name": "Python 3",
   "language": "python",
   "name": "python3"
  },
  "language_info": {
   "codemirror_mode": {
    "name": "ipython",
    "version": 3
   },
   "file_extension": ".py",
   "mimetype": "text/x-python",
   "name": "python",
   "nbconvert_exporter": "python",
   "pygments_lexer": "ipython3",
   "version": "3.7.3"
  }
 },
 "nbformat": 4,
 "nbformat_minor": 4
}
