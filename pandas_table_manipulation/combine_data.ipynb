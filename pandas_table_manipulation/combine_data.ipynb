{
 "cells": [
  {
   "cell_type": "markdown",
   "metadata": {},
   "source": [
    "# Data processing and merging into final results"
   ]
  },
  {
   "cell_type": "markdown",
   "metadata": {},
   "source": [
    "## Processing NCBI's *Latrodectus* mRNA data"
   ]
  },
  {
   "cell_type": "markdown",
   "metadata": {},
   "source": [
    "First, let's join id and descriptions for each record in the 'mrna_latrodectus_ncbi.fasta' file. This makes interpretation of the blast searches against this database more stratightforward.\n"
   ]
  },
  {
   "cell_type": "code",
   "execution_count": 28,
   "metadata": {},
   "outputs": [],
   "source": [
    "!./add_underscore_fasta_description.py mrna_latrodectus_ncbi.fasta > mrna_latrodectus_underscore.fasta"
   ]
  },
  {
   "cell_type": "markdown",
   "metadata": {},
   "source": [
    "Removing duplicate sequences using [cd-hit](https://github.com/weizhongli/cdhit/wiki):"
   ]
  },
  {
   "cell_type": "code",
   "execution_count": 29,
   "metadata": {},
   "outputs": [
    {
     "name": "stdout",
     "output_type": "stream",
     "text": [
      "================================================================\n",
      "Program: CD-HIT, V4.8.1 (+OpenMP), Apr 21 2020, 13:59:26\n",
      "Command: ./cd-hit -c 1 -i mrna_latrodectus_underscore.fasta -o\n",
      "         mrna_latrodectus_underscore_unique.fasta\n",
      "\n",
      "Started: Tue Apr 21 15:16:27 2020\n",
      "================================================================\n",
      "                            Output                              \n",
      "----------------------------------------------------------------\n",
      "total seq: 1447\n",
      "longest and shortest : 5408 and 24\n",
      "Total letters: 986122\n",
      "Sequences have been sorted\n",
      "\n",
      "Approximated minimal memory consumption:\n",
      "Sequence        : 1M\n",
      "Buffer          : 1 X 11M = 11M\n",
      "Table           : 1 X 65M = 65M\n",
      "Miscellaneous   : 0M\n",
      "Total           : 78M\n",
      "\n",
      "Table limit with the given memory limit:\n",
      "Max number of representatives: 763452\n",
      "Max number of word counting entries: 90221755\n",
      "\n",
      "comparing sequences from          0  to       1447\n",
      ".\n",
      "     1447  finished       1403  clusters\n",
      "\n",
      "Approximated maximum memory consumption: 82M\n",
      "writing new database\n",
      "writing clustering information\n",
      "program completed !\n",
      "\n",
      "Total CPU time 1.31\n"
     ]
    }
   ],
   "source": [
    "!./cd-hit -c 1 -i mrna_latrodectus_underscore.fasta -o mrna_latrodectus_underscore_unique.fasta"
   ]
  },
  {
   "cell_type": "markdown",
   "metadata": {},
   "source": [
    "<br>\n",
    "\n",
    "---\n",
    "\n",
    "Generating translated ORF's for mRNA dataset using **Transdecoder** - Command line used: \n",
    "\n",
    "```TransDecoder.LongOrfs -m 30 --output_dir mrna_latrod_transcripts -t mrna_latrodectus_underscore_unique.fasta```\n",
    "\n",
    "The path to the file with the translated sequences is `./mrna_latrod_transcripts/longest_orfs.pep`"
   ]
  },
  {
   "cell_type": "markdown",
   "metadata": {},
   "source": [
    "## Blast searches against mRNA"
   ]
  },
  {
   "cell_type": "markdown",
   "metadata": {},
   "source": [
    "Creating blastable databases for both the nucleotide (MRNA_LATROD_NT) and aa (MRNA_LATROD_AA) sequences:"
   ]
  },
  {
   "cell_type": "code",
   "execution_count": 3,
   "metadata": {},
   "outputs": [
    {
     "name": "stdout",
     "output_type": "stream",
     "text": [
      "\n",
      "\n",
      "Building a new DB, current time: 04/21/2020 16:11:34\n",
      "New DB name:   /home/gabriel/annotation_final_results/MRNA_LATROD_NT\n",
      "New DB title:  mrna_latrodectus_underscore_unique.fasta\n",
      "Sequence type: Nucleotide\n",
      "Keep MBits: T\n",
      "Maximum file size: 1000000000B\n",
      "Adding sequences from FASTA; added 1403 sequences in 0.115397 seconds.\n",
      "\n",
      "\n",
      "Building a new DB, current time: 04/21/2020 16:11:34\n",
      "New DB name:   /home/gabriel/annotation_final_results/MRNA_LATROD_AA\n",
      "New DB title:  ./mrna_latrod_transcripts/longest_orfs.pep\n",
      "Sequence type: Protein\n",
      "Keep MBits: T\n",
      "Maximum file size: 1000000000B\n",
      "Adding sequences from FASTA; added 6132 sequences in 0.402356 seconds.\n"
     ]
    }
   ],
   "source": [
    "!makeblastdb -in mrna_latrodectus_underscore_unique.fasta -dbtype nucl -out MRNA_LATROD_NT\n",
    "!makeblastdb -in ./mrna_latrod_transcripts/longest_orfs.pep -dbtype prot -out MRNA_LATROD_AA"
   ]
  },
  {
   "cell_type": "markdown",
   "metadata": {},
   "source": [
    "---\n",
    "Running Blast searches:\n",
    "\n",
    "* Blastn - Trinity contigs against MRNA_LATROD_NT\n",
    "* Blastx - Trinity contigs against MRNA_LATROD_AA\n",
    "* Blastp - Translated ORF's from Trinity contigs (generated previously by Trinotate) against MRNA_LATROD_AA"
   ]
  },
  {
   "cell_type": "code",
   "execution_count": null,
   "metadata": {},
   "outputs": [],
   "source": [
    "!blastn -db MRNA_LATROD_NT -evalue 1e-5 -query Trinity.120.fasta -out trinity_vs_mrna_blastn.outfmt6 -outfmt 6\n",
    "!blastx -db MRNA_LATROD_AA -evalue 1e-5 -query Trinity.120.fasta -out trinity_vs_mrna_blastx.outfmt6 -outfmt 6\n",
    "!blastp -db MRNA_LATROD_AA -evalue 1e-5 -query Trinity.120.pep -out trinity_vs_mrna_blastp.outfmt6 -outfmt 6"
   ]
  },
  {
   "cell_type": "markdown",
   "metadata": {},
   "source": [
    "## Integrating BlastX and BlastP hits into Trinotate database - Trinotate final report"
   ]
  },
  {
   "cell_type": "markdown",
   "metadata": {},
   "source": [
    "Adding custom blastx and blastp results to the Trinotate sqlite database:\n",
    "\n",
    "\n",
    "`Trinotate Trinotate-arthropoda-updated.sqlite LOAD_custom_blast --outfmt6 trinity_vs_mrna_blastx.outfmt6 --prog blastx --dbtype MRNA_LATROD_AA`\n",
    "\n",
    "`Trinotate Trinotate-arthropoda-updated.sqlite LOAD_custom_blast --outfmt6 trinity_vs_mrna_blastp.outfmt6 --prog blastp --dbtype MRNA_LATROD_AA`"
   ]
  },
  {
   "cell_type": "markdown",
   "metadata": {},
   "source": [
    "Generating a report based on the updated database - `Trinotate_final_report.xls`:\n",
    "\n",
    "`Trinotate Trinotate-arthropoda-updated.sqlite report --incl_trans --incl_pep > Trinotate_final_report.xls`"
   ]
  },
  {
   "cell_type": "markdown",
   "metadata": {},
   "source": [
    "**OBS:** The Blastn results will be incorporated to other analysis later in this report"
   ]
  },
  {
   "cell_type": "markdown",
   "metadata": {},
   "source": [
    "<br>\n",
    "\n",
    "---\n",
    "To further integrate our results, let's import some required libraries:"
   ]
  },
  {
   "cell_type": "code",
   "execution_count": 14,
   "metadata": {},
   "outputs": [],
   "source": [
    "import pandas as pd\n",
    "from Bio import SearchIO"
   ]
  },
  {
   "cell_type": "markdown",
   "metadata": {},
   "source": [
    "We have converted the Trinotate final report from .xls to xlsx in [LibreOffice](https://www.libreoffice.org/) v6.3.5.2 to help integrate the results"
   ]
  },
  {
   "cell_type": "markdown",
   "metadata": {},
   "source": [
    "## Merging Trinotate and custom_blast hits"
   ]
  },
  {
   "cell_type": "markdown",
   "metadata": {},
   "source": [
    "Now, we will create dataframes for both our results:"
   ]
  },
  {
   "cell_type": "code",
   "execution_count": 15,
   "metadata": {},
   "outputs": [],
   "source": [
    "trinotate = pd.read_excel('Trinotate_final_report.xlsx', sep='\\t', na_values='.')\n",
    "custom_blast = pd.read_excel('expressionCount.trinity.120.WholeTable.xlsx')"
   ]
  },
  {
   "cell_type": "markdown",
   "metadata": {},
   "source": [
    "Let's rename trinotate's first column in order to match it to the corresponding column in custom_blast:"
   ]
  },
  {
   "cell_type": "code",
   "execution_count": 16,
   "metadata": {},
   "outputs": [],
   "source": [
    "trinotate = trinotate.rename(columns={'#gene_id': 'gene_id'})"
   ]
  },
  {
   "cell_type": "markdown",
   "metadata": {},
   "source": [
    "'gene_id' and 'Transcript_id' have the same info in both dataframes, so we will use them in an full outer join of these dataframes:"
   ]
  },
  {
   "cell_type": "code",
   "execution_count": 17,
   "metadata": {},
   "outputs": [],
   "source": [
    "combined_data = pd.merge(trinotate, custom_blast, on=[\"gene_id\", \"transcript_id\"], how='outer')"
   ]
  },
  {
   "cell_type": "markdown",
   "metadata": {},
   "source": [
    "## Adding blastn hits against genbank's *Latrodectus* mrna sequences to final dataframe"
   ]
  },
  {
   "cell_type": "markdown",
   "metadata": {},
   "source": [
    "First, let's parse the Blastn results. We will need to extract the query's gene and transcript id, as well as a concatenated subject_id and e-value:"
   ]
  },
  {
   "cell_type": "code",
   "execution_count": 19,
   "metadata": {},
   "outputs": [],
   "source": [
    "def parse_blastn(blast_outfmt6):\n",
    "    hits = SearchIO.parse(blast_outfmt6, 'blast-tab')\n",
    "    for hit in hits:\n",
    "        gene_id = hit.id.rsplit('_', 1)[0] #Converting transcript_id to gene_id\n",
    "        transcript_id = hit.id\n",
    "        blastn_hits = \";\".join([\"{}^evalue_{}\".format(hsp.hit_id, hsp.evalue) for hsp in hit.hsps]) #Joins all hits for a given transcript using ';'. Subject_id and e-value separated by a '^'\n",
    "        yield(gene_id, transcript_id, blastn_hits)\n",
    "    \n",
    "\n",
    "# OBS: Extraction of info from HSP (High-Socring region) class:\n",
    "\n",
    "# for hsp in hit.hsps:\n",
    "#     print(dir(hsp))\n",
    "#     print(hsp.attribute or hsp.method())"
   ]
  },
  {
   "cell_type": "markdown",
   "metadata": {},
   "source": [
    "Now, we need to create a dataframe with the parsed blastn info..."
   ]
  },
  {
   "cell_type": "code",
   "execution_count": null,
   "metadata": {},
   "outputs": [],
   "source": [
    "custom_latrod = pd.DataFrame(parse_blastn('trinity_vs_mrna_blastn.outfmt6'), columns = ('gene_id', 'transcript_id', 'blastn_hits'))"
   ]
  },
  {
   "cell_type": "markdown",
   "metadata": {},
   "source": [
    "And merge this dataframe to the 'combined_data' dataframe:"
   ]
  },
  {
   "cell_type": "code",
   "execution_count": 22,
   "metadata": {},
   "outputs": [],
   "source": [
    "final_data = pd.merge(combined_data, custom_latrod, on=[\"gene_id\", \"transcript_id\"], how='outer')"
   ]
  },
  {
   "cell_type": "markdown",
   "metadata": {},
   "source": [
    "## Merging all data into a final table"
   ]
  },
  {
   "cell_type": "markdown",
   "metadata": {},
   "source": [
    "Finally, we need to output the final merged results to a excel table:"
   ]
  },
  {
   "cell_type": "code",
   "execution_count": 23,
   "metadata": {},
   "outputs": [],
   "source": [
    "final_data.to_excel(\"FINAL_ANNOTATION_RESULTS.xlsx\", index=False)"
   ]
  }
 ],
 "metadata": {
  "kernelspec": {
   "display_name": "git",
   "language": "python",
   "name": "git"
  },
  "language_info": {
   "codemirror_mode": {
    "name": "ipython",
    "version": 3
   },
   "file_extension": ".py",
   "mimetype": "text/x-python",
   "name": "python",
   "nbconvert_exporter": "python",
   "pygments_lexer": "ipython3",
   "version": "3.8.2"
  }
 },
 "nbformat": 4,
 "nbformat_minor": 4
}
