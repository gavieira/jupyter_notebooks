{
 "cells": [
  {
   "cell_type": "markdown",
   "metadata": {},
   "source": [
    "# Get aa fasta from Trinotate table"
   ]
  },
  {
   "cell_type": "code",
   "execution_count": 1,
   "metadata": {},
   "outputs": [],
   "source": [
    "import pandas as pd"
   ]
  },
  {
   "cell_type": "markdown",
   "metadata": {},
   "source": [
    "Creating dataframe:"
   ]
  },
  {
   "cell_type": "code",
   "execution_count": 4,
   "metadata": {},
   "outputs": [],
   "source": [
    "trinotate = pd.read_excel(\"ONLY_TRINOTATE.xlsx\", na_values=\".\", usecols=['prot_id', 'peptide'] )"
   ]
  },
  {
   "cell_type": "markdown",
   "metadata": {},
   "source": [
    "Checking if [there are any na values](https://chartio.com/resources/tutorials/how-to-check-if-any-value-is-nan-in-a-pandas-dataframe/#:~:text=Count%20Missing%20Values%20in%20DataFrame&text=the%20chain%20of%20.-,isnull().,values%20across%20the%20entire%20DataFrame.) in dataframe:"
   ]
  },
  {
   "cell_type": "code",
   "execution_count": 14,
   "metadata": {},
   "outputs": [
    {
     "data": {
      "text/plain": [
       "True"
      ]
     },
     "execution_count": 14,
     "metadata": {},
     "output_type": "execute_result"
    }
   ],
   "source": [
    "trinotate.isna().values.any()"
   ]
  },
  {
   "cell_type": "markdown",
   "metadata": {},
   "source": [
    "Removing na values from dataframe:"
   ]
  },
  {
   "cell_type": "code",
   "execution_count": 16,
   "metadata": {},
   "outputs": [
    {
     "data": {
      "text/plain": [
       "False"
      ]
     },
     "execution_count": 16,
     "metadata": {},
     "output_type": "execute_result"
    }
   ],
   "source": [
    "trinotate = trinotate.dropna()\n",
    "trinotate.isna().values.any()"
   ]
  },
  {
   "cell_type": "markdown",
   "metadata": {},
   "source": [
    "Formatting information and printing to fasta file (using 'apply' function that is [faster than iterrows](https://engineering.upside.com/a-beginners-guide-to-optimizing-pandas-code-for-speed-c09ef2c6a4d6))."
   ]
  },
  {
   "cell_type": "code",
   "execution_count": 31,
   "metadata": {},
   "outputs": [
    {
     "data": {
      "text/plain": [
       "0         Column converted to fasta\n",
       "1         Column converted to fasta\n",
       "2         Column converted to fasta\n",
       "3         Column converted to fasta\n",
       "4         Column converted to fasta\n",
       "                    ...            \n",
       "114690    Column converted to fasta\n",
       "114691    Column converted to fasta\n",
       "114693    Column converted to fasta\n",
       "114694    Column converted to fasta\n",
       "114695    Column converted to fasta\n",
       "Length: 104141, dtype: object"
      ]
     },
     "execution_count": 31,
     "metadata": {},
     "output_type": "execute_result"
    }
   ],
   "source": [
    "def generate_fasta(row):\n",
    "    with open(\"only_trinotate_aa.fasta\", 'a') as fasta:\n",
    "        fasta.write(\">{}\\n{}\\n\".format(row['prot_id'], row['peptide']))\n",
    "    return \"Column converted to fasta\"\n",
    "\n",
    "!rm only_trinotate_aa.fasta #removes previous fasta if it exists\n",
    "trinotate.apply(generate_fasta, axis=1)"
   ]
  }
 ],
 "metadata": {
  "kernelspec": {
   "display_name": "Python 3",
   "language": "python",
   "name": "python3"
  },
  "language_info": {
   "codemirror_mode": {
    "name": "ipython",
    "version": 3
   },
   "file_extension": ".py",
   "mimetype": "text/x-python",
   "name": "python",
   "nbconvert_exporter": "python",
   "pygments_lexer": "ipython3",
   "version": "3.7.4"
  }
 },
 "nbformat": 4,
 "nbformat_minor": 4
}
