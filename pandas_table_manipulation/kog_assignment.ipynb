{
 "cells": [
  {
   "cell_type": "markdown",
   "metadata": {},
   "source": [
    "# Functional annotation by KOG (EuKaryotic Orthologous Groups) assignment"
   ]
  },
  {
   "cell_type": "markdown",
   "metadata": {},
   "source": [
    "Building a blast database for all KOGs:"
   ]
  },
  {
   "cell_type": "code",
   "execution_count": 1,
   "metadata": {},
   "outputs": [
    {
     "name": "stdout",
     "output_type": "stream",
     "text": [
      "\n",
      "\n",
      "Building a new DB, current time: 04/30/2020 21:30:26\n",
      "New DB name:   /home/gabriel/ARANHAS_KOG_FINAL/KOG\n",
      "New DB title:  KOG_all.fasta\n",
      "Sequence type: Protein\n",
      "Keep MBits: T\n",
      "Maximum file size: 1000000000B\n",
      "Adding sequences from FASTA; added 60758 sequences in 4.28012 seconds.\n"
     ]
    }
   ],
   "source": [
    "!makeblastdb -in KOG_all.fasta -dbtype prot -out KOG"
   ]
  },
  {
   "cell_type": "markdown",
   "metadata": {},
   "source": [
    "Blasting transcript ORFs (obtained using [Transdecoder](https://github.com/TransDecoder/TransDecoder/wiki) with `-m 30` parameter) against the KOG database:"
   ]
  },
  {
   "cell_type": "code",
   "execution_count": null,
   "metadata": {},
   "outputs": [],
   "source": [
    "!blastp -db KOG -query Trinity.120.fasta.transdecoder.pep -evalue 1e-5 -out kog_blastp_results -outfmt 6 -num_threads 32 -max_target_seqs 1"
   ]
  },
  {
   "cell_type": "markdown",
   "metadata": {},
   "source": [
    "The `-max_target_seqs 1` parameter was used to keep only the best hit per query"
   ]
  },
  {
   "cell_type": "markdown",
   "metadata": {},
   "source": [
    "Importing python's [pandas](https://pandas.pydata.org/) library to manipulate/export our blast results:"
   ]
  },
  {
   "cell_type": "code",
   "execution_count": 16,
   "metadata": {},
   "outputs": [],
   "source": [
    "import pandas as pd"
   ]
  },
  {
   "cell_type": "markdown",
   "metadata": {},
   "source": [
    "Reading our blast results into a dataframe:"
   ]
  },
  {
   "cell_type": "code",
   "execution_count": 17,
   "metadata": {},
   "outputs": [],
   "source": [
    "kog_hits = pd.read_csv('kog_blastp_results', sep=\"\\t\", names=['qseqid', 'sseqid', 'pident', 'length',\n",
    "                                                             'mismatch', 'gapopen', 'qstart', 'qend', \n",
    "                                                             'sstart', 'send', 'evalue', 'bitscore'])"
   ]
  },
  {
   "cell_type": "markdown",
   "metadata": {},
   "source": [
    "And exporting it to a excel table:"
   ]
  },
  {
   "cell_type": "code",
   "execution_count": 18,
   "metadata": {},
   "outputs": [],
   "source": [
    "kog_hits.to_excel(\"KOG_BLASTP_RESULTS.xlsx\", index=False)"
   ]
  }
 ],
 "metadata": {
  "kernelspec": {
   "display_name": "Python 3",
   "language": "python",
   "name": "python3"
  },
  "language_info": {
   "codemirror_mode": {
    "name": "ipython",
    "version": 3
   },
   "file_extension": ".py",
   "mimetype": "text/x-python",
   "name": "python",
   "nbconvert_exporter": "python",
   "pygments_lexer": "ipython3",
   "version": "3.7.3"
  }
 },
 "nbformat": 4,
 "nbformat_minor": 2
}
