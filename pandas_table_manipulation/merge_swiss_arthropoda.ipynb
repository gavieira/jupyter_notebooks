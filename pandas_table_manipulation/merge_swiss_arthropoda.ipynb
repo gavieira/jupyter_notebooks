{
 "cells": [
  {
   "cell_type": "markdown",
   "metadata": {},
   "source": [
    "# Merging Trinotate swissprot and arthropoda Trinotate tables"
   ]
  },
  {
   "cell_type": "code",
   "execution_count": 1,
   "metadata": {},
   "outputs": [],
   "source": [
    "import pandas as pd"
   ]
  },
  {
   "cell_type": "markdown",
   "metadata": {},
   "source": [
    "Creating dataframes:"
   ]
  },
  {
   "cell_type": "code",
   "execution_count": 3,
   "metadata": {},
   "outputs": [],
   "source": [
    "swiss = pd.read_excel(\"ONLY_TRINOTATE.xlsx\", na_values=\".\")\n",
    "arthro = pd.read_excel(\"Trinotate_arthropoda.xlsx\", na_values=\".\")"
   ]
  },
  {
   "cell_type": "markdown",
   "metadata": {},
   "source": [
    "Checking if columns of pandas dataframe [uniquely identify rows](https://stackoverflow.com/questions/51489393/determine-if-columns-of-a-pandas-dataframe-uniquely-identify-the-rows):"
   ]
  },
  {
   "cell_type": "code",
   "execution_count": 7,
   "metadata": {},
   "outputs": [
    {
     "name": "stdout",
     "output_type": "stream",
     "text": [
      "True\n",
      "True\n"
     ]
    }
   ],
   "source": [
    "print(swiss.set_index(['prot_id','transcript_id']).index.is_unique)\n",
    "print(arthro.set_index(['prot_id','transcript_id']).index.is_unique)"
   ]
  },
  {
   "cell_type": "markdown",
   "metadata": {},
   "source": [
    "Merging dataframes while keeping their names in columns:"
   ]
  },
  {
   "cell_type": "code",
   "execution_count": 11,
   "metadata": {},
   "outputs": [],
   "source": [
    "swiss_arthro = swiss.merge(arthro, on=[\"prot_id\", \"transcript_id\"], suffixes=(\"_swiss\", \"_arthro\"), how=\"outer\")"
   ]
  },
  {
   "cell_type": "markdown",
   "metadata": {},
   "source": [
    "Checking length of all dataframes:"
   ]
  },
  {
   "cell_type": "code",
   "execution_count": 16,
   "metadata": {},
   "outputs": [
    {
     "name": "stdout",
     "output_type": "stream",
     "text": [
      "Swiss_Arthro: 156687\n",
      "Swiss: 114696\n",
      "Artro: 83885\n"
     ]
    }
   ],
   "source": [
    "swiss_arthro_len = len(swiss_arthro)\n",
    "swiss_len = len(swiss)\n",
    "arthro_len = len(arthro)\n",
    "\n",
    "print(\"Swiss_Arthro: {}\\nSwiss: {}\\nArtro: {}\".format(swiss_arthro_len, swiss_len, arthro_len))"
   ]
  },
  {
   "cell_type": "code",
   "execution_count": 25,
   "metadata": {},
   "outputs": [
    {
     "name": "stdout",
     "output_type": "stream",
     "text": [
      "These dataframes have 41894 fields in common\n",
      "Swiss has 72802 unique fields\n",
      "Arthro has 41991 unique fields\n"
     ]
    }
   ],
   "source": [
    "common = swiss_len + arthro_len - swiss_arthro_len\n",
    "print(\"These dataframes have {} fields in common\\n\\\n",
    "Swiss has {} unique fields\\n\\\n",
    "Arthro has {} unique fields\".format(common, swiss_len - common, arthro_len - common))"
   ]
  },
  {
   "cell_type": "markdown",
   "metadata": {},
   "source": [
    "Export merged table to excel:"
   ]
  },
  {
   "cell_type": "code",
   "execution_count": null,
   "metadata": {},
   "outputs": [],
   "source": [
    "swiss_arthro.to_excel(\"Trinotate_swiss_and_arthro.xlsx\", index=False)"
   ]
  }
 ],
 "metadata": {
  "kernelspec": {
   "display_name": "Python 3",
   "language": "python",
   "name": "python3"
  },
  "language_info": {
   "codemirror_mode": {
    "name": "ipython",
    "version": 3
   },
   "file_extension": ".py",
   "mimetype": "text/x-python",
   "name": "python",
   "nbconvert_exporter": "python",
   "pygments_lexer": "ipython3",
   "version": "3.7.4"
  }
 },
 "nbformat": 4,
 "nbformat_minor": 4
}
