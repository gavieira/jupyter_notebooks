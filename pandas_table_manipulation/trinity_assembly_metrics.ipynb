{
 "cells": [
  {
   "cell_type": "markdown",
   "metadata": {},
   "source": [
    "# Sequence metrics for Trinity contigs"
   ]
  },
  {
   "cell_type": "markdown",
   "metadata": {},
   "source": [
    "First, let's import some required modules for manipulation of sequence data, as well as setting the path to the fasta file containing the results of the Trinity assembly:"
   ]
  },
  {
   "cell_type": "code",
   "execution_count": 4,
   "metadata": {},
   "outputs": [],
   "source": [
    "from Bio import SeqIO\n",
    "from Bio.SeqUtils import GC\n",
    "\n",
    "fastafile = \"Trinity.120.fasta\""
   ]
  },
  {
   "cell_type": "markdown",
   "metadata": {},
   "source": [
    "## G-C content:"
   ]
  },
  {
   "cell_type": "markdown",
   "metadata": {},
   "source": [
    "Calculating GC% for each record and mean GC% for the whole multifasta:"
   ]
  },
  {
   "cell_type": "code",
   "execution_count": 6,
   "metadata": {},
   "outputs": [
    {
     "name": "stdout",
     "output_type": "stream",
     "text": [
      "Mean GC% of Trinity contigs = 34.31%\n"
     ]
    }
   ],
   "source": [
    "#Adapted from http://biopython.org/DIST/docs/tutorial/Tutorial.html#htoc298:\n",
    "gc_values = (GC(rec.seq) for rec in SeqIO.parse(fastafile, \"fasta\")) #GC% for each record\n",
    "\n",
    "#Mean GC% for whole multifasta\n",
    "gc_sum = 0\n",
    "seq_total = 0\n",
    "for value in gc_values:\n",
    "    gc_sum += value\n",
    "    seq_total += 1\n",
    "print (\"Mean GC% of Trinity contigs = {}%\".format(round(gc_sum/seq_total, 2)))"
   ]
  },
  {
   "cell_type": "markdown",
   "metadata": {},
   "source": [
    "## N50:"
   ]
  },
  {
   "cell_type": "markdown",
   "metadata": {},
   "source": [
    "We'll use [assembly_stats](https://github.com/sanger-pathogens/assembly-stats) v1.0.1 to calculate N50:"
   ]
  },
  {
   "cell_type": "code",
   "execution_count": 7,
   "metadata": {},
   "outputs": [
    {
     "name": "stdout",
     "output_type": "stream",
     "text": [
      "stats for Trinity.120.fasta\n",
      "sum = 56658515, n = 83424, ave = 679.16, largest = 8714\n",
      "N50 = 905, n = 17781\n",
      "N60 = 712, n = 24839\n",
      "N70 = 551, n = 33891\n",
      "N80 = 422, n = 45692\n",
      "N90 = 315, n = 61201\n",
      "N100 = 151, n = 83424\n",
      "N_count = 0\n",
      "Gaps = 0\n"
     ]
    }
   ],
   "source": [
    "%%bash -s \"$fastafile\"\n",
    "/home/gabriel/anaconda3/envs/git/bin/assembly-stats \"$1\""
   ]
  },
  {
   "cell_type": "markdown",
   "metadata": {},
   "source": [
    "In order to undestand this output, take a look at https://github.com/sanger-pathogens/assembly-stats"
   ]
  }
 ],
 "metadata": {
  "kernelspec": {
   "display_name": "Python 3",
   "language": "python",
   "name": "python3"
  },
  "language_info": {
   "codemirror_mode": {
    "name": "ipython",
    "version": 3
   },
   "file_extension": ".py",
   "mimetype": "text/x-python",
   "name": "python",
   "nbconvert_exporter": "python",
   "pygments_lexer": "ipython3",
   "version": "3.7.3"
  }
 },
 "nbformat": 4,
 "nbformat_minor": 4
}
