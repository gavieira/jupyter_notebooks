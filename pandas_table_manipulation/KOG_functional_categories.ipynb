{
 "cells": [
  {
   "cell_type": "markdown",
   "metadata": {},
   "source": [
    "# Adding KOG functional categories to annotated toxins"
   ]
  },
  {
   "cell_type": "markdown",
   "metadata": {},
   "source": [
    "Importing modules:"
   ]
  },
  {
   "cell_type": "code",
   "execution_count": 60,
   "metadata": {},
   "outputs": [],
   "source": [
    "import pandas as pd\n",
    "import numpy as np"
   ]
  },
  {
   "cell_type": "markdown",
   "metadata": {},
   "source": [
    "Importing toxins and KOG tables into dataframes:"
   ]
  },
  {
   "cell_type": "code",
   "execution_count": 61,
   "metadata": {},
   "outputs": [],
   "source": [
    "kog = pd.read_excel(\"KOG_BLASTP_RESULTS.xlsx\", usecols=[\"qseqid\", \"sseqid\"])\n",
    "toxins = pd.read_excel(\"Toxins_transcriptome.xlsx\", usecols=[\"prot_id\"], sheet_name=\"Somente toxinas\") "
   ]
  },
  {
   "cell_type": "markdown",
   "metadata": {},
   "source": [
    "Changing kog column names:"
   ]
  },
  {
   "cell_type": "code",
   "execution_count": 63,
   "metadata": {},
   "outputs": [],
   "source": [
    "kog = kog.rename(columns={'qseqid': 'prot_id', 'sseqid': 'kog_funccat'})"
   ]
  },
  {
   "cell_type": "markdown",
   "metadata": {},
   "source": [
    "Checking if dataframes have duplicate values in the 'prot_id' column, which will be used to merge them: "
   ]
  },
  {
   "cell_type": "code",
   "execution_count": 64,
   "metadata": {},
   "outputs": [
    {
     "name": "stdout",
     "output_type": "stream",
     "text": [
      "kog dataframe has only unique entries: False\n",
      "toxins dataframe has only unique entries: False\n"
     ]
    }
   ],
   "source": [
    "dataframes={\"kog\": kog, \"toxins\": toxins}\n",
    "for k, v in dataframes.items():\n",
    "    print(\"{} dataframe has only unique entries: {}\".format(k, v['prot_id'].is_unique))"
   ]
  },
  {
   "cell_type": "markdown",
   "metadata": {},
   "source": [
    "There are duplicate values. Selecting duplicate rows based on prot_id and saving it to xlsx files:"
   ]
  },
  {
   "cell_type": "code",
   "execution_count": 65,
   "metadata": {},
   "outputs": [],
   "source": [
    "for k, v in dataframes.items():\n",
    "    duplicateRowsDF = v[v.duplicated(subset='prot_id', keep=False)]\n",
    "    duplicateRowsDF.to_excel(\"Duplicated_{}.xlsx\".format(k), index=False)"
   ]
  },
  {
   "cell_type": "markdown",
   "metadata": {},
   "source": [
    "After manually checking that no information will be lost in the kog functional categories, we remove the duplicates for both datasets:"
   ]
  },
  {
   "cell_type": "code",
   "execution_count": 66,
   "metadata": {},
   "outputs": [
    {
     "name": "stdout",
     "output_type": "stream",
     "text": [
      "kog dataframe has only unique entries: True\n",
      "toxins dataframe has only unique entries: True\n"
     ]
    }
   ],
   "source": [
    "#Cleaning toxins dataframe (has duplicated empty values):\n",
    "toxins.replace('', np.nan, inplace=True) #replaces empty strings with NaN\n",
    "toxins.dropna(inplace=True) #removes NaN \n",
    "toxins.drop_duplicates(keep=\"first\", inplace=True) #removes non-NaN duplicates\n",
    "\n",
    "#Cleaning kog dstsframe:\n",
    "kog.drop_duplicates(keep='first', inplace=True) # Removes duplicates\n",
    "\n",
    "#Checking if the dataframes are unique \n",
    "for k, v in dataframes.items():\n",
    "    print(\"{} dataframe has only unique entries: {}\".format(k, v['prot_id'].is_unique))\n",
    "\n",
    "#Saving to unique xlsx tables:\n",
    "kog.to_excel(\"Unique_kog.xlsx\", index=False)\n",
    "toxins.to_excel(\"Unique_toxins.xlsx\", index=False)"
   ]
  },
  {
   "cell_type": "markdown",
   "metadata": {},
   "source": [
    "Now that the dataframes are clean, we will parse the KOG functional categories:"
   ]
  },
  {
   "cell_type": "code",
   "execution_count": 67,
   "metadata": {},
   "outputs": [],
   "source": [
    "kog['kog_funccat'] = kog['kog_funccat'].str.split('|').str[3]"
   ]
  },
  {
   "cell_type": "markdown",
   "metadata": {},
   "source": [
    "Checking if kog dataframe is ok:"
   ]
  },
  {
   "cell_type": "code",
   "execution_count": 68,
   "metadata": {},
   "outputs": [
    {
     "data": {
      "text/html": [
       "<div>\n",
       "<style scoped>\n",
       "    .dataframe tbody tr th:only-of-type {\n",
       "        vertical-align: middle;\n",
       "    }\n",
       "\n",
       "    .dataframe tbody tr th {\n",
       "        vertical-align: top;\n",
       "    }\n",
       "\n",
       "    .dataframe thead th {\n",
       "        text-align: right;\n",
       "    }\n",
       "</style>\n",
       "<table border=\"1\" class=\"dataframe\">\n",
       "  <thead>\n",
       "    <tr style=\"text-align: right;\">\n",
       "      <th></th>\n",
       "      <th>prot_id</th>\n",
       "      <th>kog_funccat</th>\n",
       "    </tr>\n",
       "  </thead>\n",
       "  <tbody>\n",
       "    <tr>\n",
       "      <th>0</th>\n",
       "      <td>TRINITY_DN0_c0_g1_i1.p3</td>\n",
       "      <td>L</td>\n",
       "    </tr>\n",
       "    <tr>\n",
       "      <th>1</th>\n",
       "      <td>TRINITY_DN10003_c0_g1_i1.p2</td>\n",
       "      <td>D</td>\n",
       "    </tr>\n",
       "    <tr>\n",
       "      <th>2</th>\n",
       "      <td>TRINITY_DN10012_c0_g1_i1.p1</td>\n",
       "      <td>T</td>\n",
       "    </tr>\n",
       "    <tr>\n",
       "      <th>3</th>\n",
       "      <td>TRINITY_DN10018_c0_g1_i1.p1</td>\n",
       "      <td>R</td>\n",
       "    </tr>\n",
       "    <tr>\n",
       "      <th>4</th>\n",
       "      <td>TRINITY_DN10026_c0_g1_i1.p1</td>\n",
       "      <td>T</td>\n",
       "    </tr>\n",
       "    <tr>\n",
       "      <th>...</th>\n",
       "      <td>...</td>\n",
       "      <td>...</td>\n",
       "    </tr>\n",
       "    <tr>\n",
       "      <th>38273</th>\n",
       "      <td>TRINITY_DN998_c0_g1_i1.p1</td>\n",
       "      <td>U</td>\n",
       "    </tr>\n",
       "    <tr>\n",
       "      <th>38274</th>\n",
       "      <td>TRINITY_DN9990_c0_g1_i1.p1</td>\n",
       "      <td>R</td>\n",
       "    </tr>\n",
       "    <tr>\n",
       "      <th>38275</th>\n",
       "      <td>TRINITY_DN9998_c0_g1_i1.p1</td>\n",
       "      <td>B</td>\n",
       "    </tr>\n",
       "    <tr>\n",
       "      <th>38276</th>\n",
       "      <td>TRINITY_DN99_c0_g1_i1.p1</td>\n",
       "      <td>T</td>\n",
       "    </tr>\n",
       "    <tr>\n",
       "      <th>38277</th>\n",
       "      <td>TRINITY_DN99_c0_g1_i2.p1</td>\n",
       "      <td>T</td>\n",
       "    </tr>\n",
       "  </tbody>\n",
       "</table>\n",
       "<p>27919 rows × 2 columns</p>\n",
       "</div>"
      ],
      "text/plain": [
       "                           prot_id kog_funccat\n",
       "0          TRINITY_DN0_c0_g1_i1.p3           L\n",
       "1      TRINITY_DN10003_c0_g1_i1.p2           D\n",
       "2      TRINITY_DN10012_c0_g1_i1.p1           T\n",
       "3      TRINITY_DN10018_c0_g1_i1.p1           R\n",
       "4      TRINITY_DN10026_c0_g1_i1.p1           T\n",
       "...                            ...         ...\n",
       "38273    TRINITY_DN998_c0_g1_i1.p1           U\n",
       "38274   TRINITY_DN9990_c0_g1_i1.p1           R\n",
       "38275   TRINITY_DN9998_c0_g1_i1.p1           B\n",
       "38276     TRINITY_DN99_c0_g1_i1.p1           T\n",
       "38277     TRINITY_DN99_c0_g1_i2.p1           T\n",
       "\n",
       "[27919 rows x 2 columns]"
      ]
     },
     "execution_count": 68,
     "metadata": {},
     "output_type": "execute_result"
    }
   ],
   "source": [
    "kog"
   ]
  },
  {
   "cell_type": "markdown",
   "metadata": {},
   "source": [
    "Joining 'toxins' and 'kog' dataframes.\n",
    "\n",
    "Inner join: only prot_id that appear in both tables will be present in the final dataframe - i.e. the final table will only contain toxins that were assigned a kog functional category."
   ]
  },
  {
   "cell_type": "code",
   "execution_count": 71,
   "metadata": {},
   "outputs": [],
   "source": [
    "toxins_kog = pd.merge(toxins, kog, on=[\"prot_id\"], how='inner')"
   ]
  },
  {
   "cell_type": "markdown",
   "metadata": {},
   "source": [
    "Check if dataframe size (expected result: toxins-kog will be smaller than both kog and toxins):"
   ]
  },
  {
   "cell_type": "code",
   "execution_count": 73,
   "metadata": {},
   "outputs": [
    {
     "name": "stdout",
     "output_type": "stream",
     "text": [
      "Kog entries: 27919\n",
      "Toxin entries: 945\n",
      "Toxin_kog entries: 364\n"
     ]
    }
   ],
   "source": [
    "print('Kog entries: {}\\nToxin entries: {}\\nToxin_kog entries: {}'.format(len(kog), len(toxins), len(toxins_kog)))"
   ]
  },
  {
   "cell_type": "markdown",
   "metadata": {},
   "source": [
    "Saving final dataframe to excel table:"
   ]
  },
  {
   "cell_type": "code",
   "execution_count": 74,
   "metadata": {},
   "outputs": [],
   "source": [
    "toxins_kog.to_excel('TOXINS_KOG.xlsx', index=False)"
   ]
  }
 ],
 "metadata": {
  "kernelspec": {
   "display_name": "Python 3",
   "language": "python",
   "name": "python3"
  },
  "language_info": {
   "codemirror_mode": {
    "name": "ipython",
    "version": 3
   },
   "file_extension": ".py",
   "mimetype": "text/x-python",
   "name": "python",
   "nbconvert_exporter": "python",
   "pygments_lexer": "ipython3",
   "version": "3.7.4"
  }
 },
 "nbformat": 4,
 "nbformat_minor": 4
}
